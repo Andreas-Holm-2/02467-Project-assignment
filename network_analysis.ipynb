{
 "cells": [
  {
   "cell_type": "code",
   "execution_count": 28,
   "metadata": {},
   "outputs": [],
   "source": [
    "import pandas as pd\n",
    "import matplotlib.pyplot as plt\n",
    "import ast\n",
    "import networkx as nx\n",
    "import community as community_louvain\n",
    "from collections import Counter, defaultdict\n",
    "import netwulf as nw\n",
    "import numpy as np\n",
    "from Netwulf_plot_functions import netwulf_plot_communities\n",
    "from community import community_louvain \n",
    "import pickle"
   ]
  },
  {
   "cell_type": "code",
   "execution_count": 19,
   "metadata": {},
   "outputs": [],
   "source": [
    "nodes_df = pd.read_csv('nodes.csv')\n",
    "edges_df = pd.read_csv('edges.csv')\n",
    "nodes_df['genres'] = nodes_df['genres'].apply(lambda x: ast.literal_eval(x) if isinstance(x, str) else [])\n",
    "artists_us_df = pd.read_csv(\"most_listened_artists_in_US_dataset.csv\", index_col=0)\n",
    "artists_us_name_list = (artists_us_df.index).tolist()\n",
    "nodes_df = nodes_df[nodes_df[\"name\"].isin(artists_us_name_list)]\n",
    "duplicate_names = nodes_df[nodes_df.duplicated(subset=\"name\", keep=False)].sort_values(by=\"name\")\n",
    "final_cleaned_nodes_df = nodes_df.sort_values(\"followers\", ascending=False)\n",
    "final_cleaned_nodes_df = nodes_df.drop_duplicates(subset=\"name\", keep=\"first\")"
   ]
  },
  {
   "cell_type": "code",
   "execution_count": 21,
   "metadata": {},
   "outputs": [],
   "source": [
    "def split_artists_by_genre(nodes_df, genre_names, exclusive=False):    \n",
    "    nodes_df = nodes_df.copy()\n",
    "\n",
    "    filtered_dfs = []\n",
    "\n",
    "    for genre in genre_names:\n",
    "        if exclusive:\n",
    "            other_genres = [g for g in genre_names if g != genre]\n",
    "            \n",
    "            df = nodes_df[\n",
    "                nodes_df['genres'].apply(\n",
    "                    lambda genres: genre in ' '.join(genres) and all(other not in ' '.join(genres) for other in other_genres)\n",
    "                )\n",
    "            ].copy()\n",
    "        else:\n",
    "             df = nodes_df[\n",
    "                nodes_df['genres'].apply(\n",
    "                    lambda genres: genre in ' '.join(genres)\n",
    "                )\n",
    "            ].copy()\n",
    "        \n",
    "        filtered_dfs.append(df)\n",
    "\n",
    "    return filtered_dfs\n",
    "\n",
    "def get_Graph_with_names(nodes_df, edges_df, verbose=True):\n",
    "    nodes_df = nodes_df.dropna(subset=['spotify_id', 'name'])\n",
    "    edges_df = edges_df.dropna(subset=['id_0', 'id_1'])\n",
    "\n",
    "    # Build ID to name map\n",
    "    id_to_name = dict(zip(nodes_df['spotify_id'], nodes_df['name']))\n",
    "    allowed_ids = set(id_to_name.keys())\n",
    "\n",
    "    # Create graph with artist names as nodes\n",
    "    G = nx.Graph()\n",
    "\n",
    "    for _, row in nodes_df.iterrows():\n",
    "        artist_name = row['name']\n",
    "        followers = row['followers'] if not pd.isna(row['followers']) else 0\n",
    "        popularity = row['popularity'] if not pd.isna(row['popularity']) else 0\n",
    "        genres = row['genres']\n",
    "        chart_hits = row['chart_hits'] if not pd.isna(row['chart_hits']) else []\n",
    "\n",
    "        G.add_node(artist_name, followers=followers, popularity=popularity,\n",
    "                   genres=genres, chart_hits=chart_hits)\n",
    "\n",
    "    for _, row in edges_df.iterrows():\n",
    "        id_0, id_1 = row['id_0'], row['id_1']\n",
    "        if id_0 in allowed_ids and id_1 in allowed_ids:\n",
    "            name_0 = id_to_name.get(id_0)\n",
    "            name_1 = id_to_name.get(id_1)\n",
    "            if name_0 and name_1:\n",
    "                G.add_edge(name_0, name_1)\n",
    "\n",
    "    if verbose:\n",
    "        print(f\"Number of nodes: {G.number_of_nodes()}\")\n",
    "        print(f\"Number of edges: {G.number_of_edges()}\")\n",
    "        print(f\"Network density: {nx.density(G)}\")\n",
    "\n",
    "    return G\n",
    "\n",
    "def get_n_largest_component(G, n):\n",
    "    return sorted(nx.connected_components(G), key=len, reverse=True)[n]\n",
    "\n",
    "def apply_louvain(G, verbose=True):\n",
    "    partition = community_louvain.best_partition(G)\n",
    "\n",
    "    nx.set_node_attributes(G, partition, 'community')\n",
    "    \n",
    "    if verbose:\n",
    "        community_sizes = Counter(partition.values())\n",
    "        sorted_communities = sorted(community_sizes.items(), key=lambda x: x[1], reverse=True)\n",
    "        for community_id, size in sorted_communities:\n",
    "            print(f\"Community {community_id}: {size} nodes\")\n",
    "    \n",
    "    communities = defaultdict(list)\n",
    "    for node, community_id in partition.items():\n",
    "        communities[community_id].append(node)\n",
    "    \n",
    "    sorted_communities = sorted(communities.items(), key=lambda x: len(x[1]), reverse=True)\n",
    "    return sorted_communities\n",
    "        \n",
    "def get_community_subgraph(G, community_id):\n",
    "    nodes_in_community = [n for n, attr in G.nodes(data=True) if attr.get('community') == community_id]\n",
    "    \n",
    "    subgraph = G.subgraph(nodes_in_community).copy()\n",
    "    \n",
    "    return subgraph\n",
    "\n",
    "def get_combined_louvain_splitted_graph(G):\n",
    "    _G = G.copy()\n",
    "    partition = community_louvain.best_partition(_G)\n",
    "    nx.set_node_attributes(_G, partition, 'community')\n",
    "\n",
    "    combined_G = nx.Graph()\n",
    "    \n",
    "    combined_G.add_nodes_from(_G.nodes(data=True))\n",
    "\n",
    "    for u, v in _G.edges():\n",
    "        if partition[u] == partition[v]:\n",
    "            combined_G.add_edge(u, v, **_G[u][v])\n",
    "\n",
    "    return combined_G\n",
    "\n",
    "def print_top_collaborators(G, n):\n",
    "    top_collaborators = sorted(G.degree, key=lambda x: x[1], reverse=True)[:n]\n",
    "\n",
    "    print(f\"Top {n} artists with the most collaborations:\")\n",
    "    for rank, (artist, degree) in enumerate(top_collaborators, start=1):\n",
    "        print(f\"{rank}. {artist} — {degree} collaborations\")\n"
   ]
  },
  {
   "cell_type": "code",
   "execution_count": 22,
   "metadata": {},
   "outputs": [],
   "source": [
    "df_tes = pd.read_csv(\"most_listened_artists_in_US_dataset.csv\")\n",
    "df_us = df_tes[df_tes[\"Country\"] == \"US\"]\n",
    "df_us = df_us.rename(columns={\"Name\": \"name\"})\n",
    "us_names = df_us[\"name\"].tolist()"
   ]
  },
  {
   "cell_type": "code",
   "execution_count": 23,
   "metadata": {},
   "outputs": [],
   "source": [
    "final_df = final_cleaned_nodes_df[final_cleaned_nodes_df[\"name\"].isin(us_names)]"
   ]
  },
  {
   "cell_type": "code",
   "execution_count": 24,
   "metadata": {},
   "outputs": [
    {
     "data": {
      "application/vnd.microsoft.datawrangler.viewer.v0+json": {
       "columns": [
        {
         "name": "index",
         "rawType": "int64",
         "type": "integer"
        },
        {
         "name": "spotify_id",
         "rawType": "object",
         "type": "string"
        },
        {
         "name": "name",
         "rawType": "object",
         "type": "string"
        },
        {
         "name": "followers",
         "rawType": "float64",
         "type": "float"
        },
        {
         "name": "popularity",
         "rawType": "int64",
         "type": "integer"
        },
        {
         "name": "genres",
         "rawType": "object",
         "type": "unknown"
        },
        {
         "name": "chart_hits",
         "rawType": "object",
         "type": "unknown"
        }
       ],
       "conversionMethod": "pd.DataFrame",
       "ref": "36e69386-5eab-4862-a05c-1c5dc1e36e44",
       "rows": [
        [
         "15",
         "3xs0LEzcPXtgNfMNcHzLIP",
         "Rockwell",
         "40344.0",
         "58",
         "[]",
         "['us (1)', 'gb (1)', 'at (1)', 'be (1)', 'ca (1)', 'ee (1)', 'de (1)', 'is (1)', 'ie (1)', 'lv (1)', 'lt (1)', 'sk (1)']"
        ],
        [
         "54",
         "0LyOADBjj28cbvJWTXUEGA",
         "Loren Allred",
         "111839.0",
         "58",
         "['deep talent show', 'hollywood', 'movie tunes']",
         "['us (1)', 'gb (2)', 'au (2)', 'at (1)', 'cz (1)', 'do (1)', 'ee (1)', 'hk (2)', 'hu (1)', 'is (1)', 'id (2)', 'ie (2)', 'jp (2)', 'my (2)', 'mt (2)', 'mx (1)', 'nz (1)', 'no (1)', 'pa (1)', 'ph (2)', 'pt (1)', 'sg (2)', 'es (1)', 'se (1)', 'tw (2)']"
        ],
        [
         "85",
         "7wU2WGCJ8HxkekHHE2QLul",
         "Fuego",
         "253571.0",
         "67",
         "['latin hip hop', 'rap dominicano', 'reggaeton', 'reggaeton flow', 'trap latino']",
         "['ar (3)', 'bo (2)', 'cl (2)', 'co (3)', 'cr (2)', 'do (4)', 'ec (3)', 'sv (2)', 'fr (1)', 'gt (2)', 'hn (2)', 'it (1)', 'lu (1)', 'mx (1)', 'ni (2)', 'pa (3)', 'py (2)', 'pe (2)', 'es (6)', 'uy (4)']"
        ],
        [
         "88",
         "2l35CQqtYRh3d8ZIiBep4v",
         "MKTO",
         "995449.0",
         "66",
         "['dance pop', 'pop', 'pop rap', 'pop rock', 'post-teen pop', 'uk pop']",
         "['us (3)', 'gb (2)', 'au (5)', 'at (1)', 'be (2)', 'bo (1)', 'br (2)', 'bg (2)', 'ca (3)', 'cl (1)', 'co (1)', 'cr (1)', 'cz (3)', 'dk (2)', 'do (1)', 'ec (1)', 'sv (1)', 'ee (2)', 'fi (2)', 'fr (1)', 'de (1)', 'gr (2)', 'gt (1)', 'hn (1)', 'hk (3)', 'hu (3)', 'is (2)', 'ie (2)', 'it (2)', 'lv (2)', 'lt (2)', 'lu (1)', 'my (4)', 'mt (2)', 'nl (3)', 'nz (5)', 'ni (1)', 'no (3)', 'pa (1)', 'py (1)', 'pe (1)', 'ph (3)', 'pl (2)', 'pt (2)', 'sg (3)', 'sk (2)', 'za (1)', 'se (3)', 'ch (3)', 'tw (3)', 'tr (3)', 'ae (1)', 'uy (1)']"
        ],
        [
         "152",
         "7h1amg0X7Q5d0D5KfuyKTg",
         "Pyrex",
         "29130.0",
         "57",
         "['italian hip hop', 'trap italiana']",
         "['it (3)']"
        ],
        [
         "171",
         "7EK1bQADBoqbYXnT4Cqv9w",
         "John Denver",
         "1646622.0",
         "67",
         "['classic country pop', 'folk', 'folk rock', 'mellow gold', 'singer-songwriter', 'soft rock']",
         "['gb (1)', 'be (2)', 'ca (2)', 'ee (1)', 'hu (2)', 'ie (1)', 'lv (1)', 'lt (1)', 'lu (2)', 'mt (2)', 'nl (1)', 'pl (1)', 'th (1)']"
        ],
        [
         "231",
         "2vm8GdHyrJh2O2MfbQFYG0",
         "Ingrid Michaelson",
         "780402.0",
         "59",
         "['acoustic pop', 'ectofolk', 'lilith', 'neo mellow', 'pop rock']",
         "['us (1)', 'at (1)', 'ca (2)', 'cz (1)', 'ee (1)', 'de (1)', 'gr (1)', 'hk (2)', 'hu (1)', 'is (1)', 'ie (1)', 'lv (2)', 'lt (1)', 'my (2)', 'mt (2)', 'ph (2)', 'pl (1)', 'sg (2)', 'sk (1)', 'ch (1)', 'tw (2)', 'tr (1)']"
        ],
        [
         "242",
         "4kYSro6naA4h99UJvo89HB",
         "Cardi B",
         "20361435.0",
         "80",
         "['dance pop', 'pop', 'rap']",
         "['us (19)', 'gb (17)', 'ar (2)', 'au (16)', 'at (10)', 'be (10)', 'bo (3)', 'br (5)', 'bg (19)', 'ca (19)', 'cl (2)', 'co (4)', 'cr (6)', 'cy (15)', 'cz (9)', 'dk (11)', 'do (14)', 'ec (2)', 'eg (3)', 'sv (5)', 'ee (11)', 'fi (11)', 'fr (7)', 'de (10)', 'gr (16)', 'gt (3)', 'hn (6)', 'hk (10)', 'hu (11)', 'is (17)', 'in (2)', 'id (5)', 'ie (17)', 'il (9)', 'it (6)', 'jp (6)', 'lv (11)', 'lt (12)', 'lu (14)', 'my (8)', 'mt (10)', 'mx (3)', 'ma (3)', 'nl (10)', 'nz (14)', 'ni (5)', 'no (11)', 'pa (7)', 'py (3)', 'pe (4)', 'ph (7)', 'pl (6)', 'pt (10)', 'ro (14)', 'ru (2)', 'sa (3)', 'sg (9)', 'sk (10)', 'za (5)', 'kr (3)', 'es (4)', 'se (11)', 'ch (10)', 'tw (10)', 'th (7)', 'tr (6)', 'ua (2)', 'ae (4)', 'uy (3)', 'vn (5)', 'ad (1)']"
        ],
        [
         "249",
         "2GHclqNVjqGuiE5mA7BEoc",
         "Common",
         "833451.0",
         "62",
         "['alternative hip hop', 'chicago rap', 'conscious hip hop', 'gangster rap', 'hip hop', 'neo soul', 'political hip hop', 'rap']",
         "['us (1)', 'be (1)', 'ca (1)', 'dk (1)', 'hk (1)', 'is (1)', 'ie (1)', 'pa (1)', 'pl (1)', 'pt (1)', 'sk (1)']"
        ],
        [
         "264",
         "0tzSBCPJZmHTdOA3ZV2mN3",
         "CL",
         "1064466.0",
         "60",
         "['k-pop']",
         "['bg (1)', 'hk (1)', 'id (2)', 'my (4)', 'ph (1)', 'sg (2)', 'kr (3)', 'tw (3)', 'vn (1)']"
        ],
        [
         "280",
         "4nDoRrQiYLoBzwC5BhVJzF",
         "Camila Cabello",
         "27956268.0",
         "82",
         "['dance pop', 'pop', 'post-teen pop', 'uk pop']",
         "['us (23)', 'gb (21)', 'ar (18)', 'au (18)', 'at (14)', 'be (18)', 'bo (12)', 'br (21)', 'bg (25)', 'ca (25)', 'cl (8)', 'co (14)', 'cr (16)', 'cy (24)', 'cz (15)', 'dk (12)', 'do (15)', 'ec (9)', 'eg (9)', 'sv (18)', 'ee (17)', 'fi (14)', 'fr (8)', 'de (12)', 'gr (25)', 'gt (11)', 'hn (11)', 'hk (24)', 'hu (24)', 'is (12)', 'in (8)', 'id (10)', 'ie (25)', 'il (11)', 'it (9)', 'jp (10)', 'lv (16)', 'lt (23)', 'lu (20)', 'my (25)', 'mt (22)', 'mx (11)', 'ma (8)', 'nl (17)', 'nz (16)', 'ni (14)', 'no (17)', 'pa (19)', 'py (8)', 'pe (10)', 'ph (19)', 'pl (16)', 'pt (25)', 'ro (14)', 'sa (9)', 'sg (25)', 'sk (25)', 'za (10)', 'kr (3)', 'es (13)', 'se (14)', 'ch (18)', 'tw (26)', 'th (17)', 'tr (6)', 'ae (10)', 'uy (19)', 'vn (13)']"
        ],
        [
         "303",
         "5RZjpmuD14JKXvB8Ry1G1u",
         "Amanda Seyfried",
         "85707.0",
         "67",
         "['hollywood', 'pop']",
         "['gb (2)', 'hu (1)', 'is (3)', 'ie (3)', 'nz (1)', 'no (2)']"
        ],
        [
         "317",
         "3iPdJaQD2j4rJXuDUmegE8",
         "Mario",
         "866.0",
         "1",
         "['italian pop']",
         "['it (1)']"
        ],
        [
         "343",
         "6ghiFYcwn2Vzl6K50U0UPz",
         "Michael Ray",
         "430842.0",
         "56",
         "['contemporary country', 'country', 'country pop', 'country road', 'modern country rock']",
         "['us (1)', 'ca (1)', 'tw (1)']"
        ],
        [
         "366",
         "4mYFgEjpQT4IKOrjOUKyXu",
         "Wheatus",
         "126347.0",
         "63",
         "['pop rock']",
         "['gb (1)', 'au (1)', 'at (1)', 'de (1)', 'ie (2)']"
        ],
        [
         "419",
         "18KsILOMx3thJRzBYBnKHW",
         "J-Dawg",
         "2805.0",
         "41",
         "['russelater']",
         "['no (1)']"
        ],
        [
         "424",
         "4KWTAlx2RvbpseOGMEmROg",
         "R.E.M.",
         "3671605.0",
         "72",
         "['alternative rock', 'athens indie', 'permanent wave', 'pop rock', 'rock']",
         "['ar (1)', 'au (1)', 'be (1)', 'cr (1)', 'nz (1)', 'pe (1)', 'pl (1)', 'es (2)', 'tr (1)']"
        ],
        [
         "460",
         "0AsThoR4KZSVktALiNcQwW",
         "Chloe x Halle",
         "1857184.0",
         "60",
         "['alternative r&b', 'dance pop', 'pop', 'post-teen pop', 'r&b', 'rap', 'urban contemporary']",
         "['us (1)', 'my (1)', 'nz (1)', 'za (2)']"
        ],
        [
         "466",
         "6vWDO969PvNqNYHIOW5v0m",
         "Beyoncé",
         "32087569.0",
         "88",
         "['dance pop', 'pop', 'r&b']",
         "['us (31)', 'gb (34)', 'ar (2)', 'au (27)', 'at (5)', 'be (25)', 'bo (1)', 'br (32)', 'bg (17)', 'ca (25)', 'cl (2)', 'co (2)', 'cr (3)', 'cy (14)', 'cz (6)', 'dk (13)', 'do (7)', 'ec (2)', 'eg (1)', 'sv (2)', 'ee (16)', 'fi (7)', 'fr (13)', 'de (6)', 'gr (9)', 'gt (2)', 'hn (2)', 'hk (7)', 'hu (9)', 'is (35)', 'in (1)', 'id (2)', 'ie (37)', 'il (10)', 'it (4)', 'lv (13)', 'lt (19)', 'lu (15)', 'my (7)', 'mt (9)', 'mx (2)', 'ma (2)', 'nl (23)', 'nz (24)', 'ni (1)', 'no (16)', 'pa (5)', 'py (2)', 'pe (2)', 'ph (10)', 'pl (11)', 'pt (24)', 'ro (5)', 'sa (2)', 'sg (10)', 'sk (8)', 'za (26)', 'kr (5)', 'es (4)', 'se (17)', 'ch (13)', 'tw (11)', 'th (2)', 'tr (6)', 'ae (13)', 'uy (2)', 'vn (2)']"
        ],
        [
         "493",
         "06nevPmNVfWUXyZkccahL8",
         "Gregory Porter",
         "555161.0",
         "60",
         "['contemporary vocal jazz', 'jazz pop', 'neo soul', 'vocal jazz']",
         "['be (1)', 'fr (1)', 'de (1)', 'nl (4)']"
        ],
        [
         "556",
         "1Td3Fc1O4YfK9KxeZDAoOu",
         "Blue Shade",
         "58108.0",
         "44",
         "['thai indie rock', 'thai pop']",
         "['th (4)']"
        ],
        [
         "560",
         "378dH6EszOLFShpRzAQkVM",
         "Lindsey Stirling",
         "1943879.0",
         "64",
         "['bow pop', 'pop violin']",
         "['at (1)']"
        ],
        [
         "567",
         "4xnihxcoXWK3UqryOSnbw5",
         "Sasha Alex Sloan",
         "1174594.0",
         "70",
         "['alt z', 'electropop', 'pop']",
         "['us (1)', 'ca (1)', 'my (3)', 'ro (1)', 'sg (3)', 'tw (2)', 'th (1)', 'vn (2)']"
        ],
        [
         "574",
         "1umTeYMbiCSj1nl2fqXVcZ",
         "The Main Level",
         "15509.0",
         "28",
         "['scandipop']",
         "['cz (1)', 'gr (1)', 'hu (1)', 'lt (1)', 'mt (1)', 'no (5)', 'pl (1)', 'sk (1)', 'ch (1)']"
        ],
        [
         "665",
         "3gggmBN0erstm3YJvEGe3t",
         "Jake Miller",
         "302885.0",
         "58",
         "['australian pop', 'indie pop rap', 'pop', 'post-teen pop']",
         "['ph (1)', 'tw (1)']"
        ],
        [
         "676",
         "6U3ybJ9UHNKEdsH7ktGBZ7",
         "JID",
         "987676.0",
         "80",
         "['hip hop', 'rap']",
         "['us (4)', 'ca (2)', 'za (1)']"
        ],
        [
         "694",
         "1vSN1fsvrzpbttOYGsliDr",
         "Tori Kelly",
         "2052997.0",
         "67",
         "['dance pop']",
         "['us (4)', 'gb (1)', 'au (3)', 'be (1)', 'bg (1)', 'ca (6)', 'cz (1)', 'dk (1)', 'ee (1)', 'fi (1)', 'fr (1)', 'gr (1)', 'hk (1)', 'hu (1)', 'is (1)', 'id (1)', 'lv (1)', 'lt (1)', 'lu (1)', 'my (2)', 'mt (1)', 'nl (3)', 'nz (4)', 'no (2)', 'ph (2)', 'pl (1)', 'pt (1)', 'sg (1)', 'sk (1)', 'se (2)', 'ch (1)', 'tw (1)', 'tr (1)']"
        ],
        [
         "699",
         "0BvkDsjIUla7X0k6CSWh1I",
         "Luke Bryan",
         "7604808.0",
         "76",
         "['contemporary country', 'country', 'country road']",
         "['us (13)', 'bg (1)', 'ca (7)', 'cz (1)', 'ee (1)', 'gr (1)', 'hk (1)', 'hu (1)', 'is (1)', 'lv (1)', 'lt (1)', 'my (2)', 'mt (1)', 'ph (2)', 'pl (1)', 'sg (2)', 'sk (1)', 'ch (1)', 'tw (1)']"
        ],
        [
         "705",
         "7gjAu1qr5C2grXeQFFOGeh",
         "Passion Pit",
         "1217196.0",
         "59",
         "['alternative dance', 'indie rock', 'indietronica', 'modern rock']",
         "['us (2)', 'ee (1)', 'is (1)', 'lv (1)', 'lt (1)', 'mx (1)', 'pl (1)', 'sg (1)', 'tw (1)']"
        ],
        [
         "730",
         "4QQgXkCYTt3BlENzhyNETg",
         "Earth, Wind & Fire",
         "3592523.0",
         "72",
         "['disco', 'funk', 'jazz funk', 'quiet storm', 'soul']",
         "['us (1)', 'gb (1)', 'au (1)', 'be (1)', 'ca (1)', 'cz (1)', 'dk (1)', 'ee (1)', 'fr (1)', 'hu (1)', 'is (1)', 'ie (1)', 'il (1)', 'lv (1)', 'lt (1)', 'lu (1)', 'nl (1)', 'nz (2)', 'pl (1)', 'sa (1)', 'sk (1)', 'se (1)', 'ch (1)']"
        ],
        [
         "737",
         "6UBA15slIuadJ8h2lPRPos",
         "Tech N9ne",
         "2523206.0",
         "70",
         "['hip hop', 'kansas city hip hop', 'pop rap', 'southern hip hop']",
         "['us (3)', 'au (1)', 'at (1)', 'bg (1)', 'ca (3)', 'cz (1)', 'ee (1)', 'fi (1)', 'hu (1)', 'is (1)', 'lv (1)', 'lt (1)', 'nz (2)', 'no (1)', 'ro (1)', 'sa (1)', 'sg (1)', 'sk (1)', 'ae (1)']"
        ],
        [
         "782",
         "7rewR1TVjhisjI6gauUamf",
         "The Crystals",
         "100528.0",
         "49",
         "['brill building pop', 'bubblegum pop', 'classic girl group', 'rock-and-roll', 'rockabilly', 'soul']",
         "['gb (1)', 'ie (1)']"
        ],
        [
         "784",
         "64M6ah0SkkRsnPGtGiRAbb",
         "Bebe Rexha",
         "7531004.0",
         "81",
         "['dance pop', 'electropop', 'pop', 'post-teen pop', 'uk pop']",
         "['us (10)', 'gb (6)', 'au (9)', 'at (9)', 'be (9)', 'bo (3)', 'br (3)', 'bg (13)', 'ca (13)', 'co (3)', 'cr (3)', 'cy (8)', 'cz (10)', 'dk (6)', 'do (2)', 'ec (2)', 'eg (3)', 'sv (3)', 'ee (12)', 'fi (13)', 'fr (4)', 'de (6)', 'gr (11)', 'gt (3)', 'hn (3)', 'hk (12)', 'hu (14)', 'is (9)', 'id (8)', 'ie (9)', 'il (4)', 'it (4)', 'jp (1)', 'lv (11)', 'lt (14)', 'lu (9)', 'my (14)', 'mt (10)', 'mx (2)', 'nl (7)', 'nz (9)', 'ni (2)', 'no (18)', 'pa (4)', 'py (3)', 'ph (11)', 'pl (10)', 'pt (8)', 'ro (6)', 'sa (4)', 'sg (13)', 'sk (13)', 'za (3)', 'kr (1)', 'es (4)', 'se (10)', 'ch (11)', 'tw (17)', 'th (7)', 'tr (6)', 'ae (4)', 'uy (2)', 'vn (7)']"
        ],
        [
         "785",
         "6V0UIhxibbgh9q9eYKImW7",
         "FRANKIE",
         "12871.0",
         "25",
         "['indie poptimism']",
         "['dk (1)', 'se (1)']"
        ],
        [
         "787",
         "4vxaQs6vK54nK89J1VtLex",
         "PUBLIC",
         "191393.0",
         "61",
         "['indie rockism']",
         "['bo (1)', 'sv (1)', 'gt (1)', 'hn (1)', 'id (1)', 'my (1)', 'ni (1)', 'ph (1)', 'sg (1)', 'ae (1)']"
        ],
        [
         "838",
         "0RTKm5n4OBSU5H8uGqi3fM",
         "Jaill",
         "30328.0",
         "48",
         "['deep german hip hop', 'german hip hop']",
         "['de (2)']"
        ],
        [
         "882",
         "4xRYI6VqpkE3UwrDrAZL8L",
         "Logic",
         "5783112.0",
         "77",
         "['conscious hip hop', 'dmv rap', 'hip hop', 'pop rap', 'rap']",
         "['us (89)', 'gb (14)', 'ar (1)', 'au (10)', 'at (7)', 'be (7)', 'bo (2)', 'br (1)', 'bg (26)', 'ca (57)', 'co (1)', 'cr (3)', 'cy (18)', 'cz (8)', 'dk (7)', 'do (3)', 'ec (1)', 'eg (3)', 'sv (3)', 'ee (14)', 'fi (9)', 'fr (3)', 'de (7)', 'gr (27)', 'gt (3)', 'hn (3)', 'hk (6)', 'hu (12)', 'is (8)', 'in (2)', 'id (4)', 'ie (10)', 'il (7)', 'it (3)', 'jp (3)', 'lv (18)', 'lt (16)', 'lu (20)', 'my (6)', 'mt (19)', 'mx (1)', 'ma (2)', 'nl (5)', 'nz (17)', 'ni (2)', 'no (12)', 'pa (3)', 'py (1)', 'pe (1)', 'ph (4)', 'pl (5)', 'pt (12)', 'ro (15)', 'sa (3)', 'sg (6)', 'sk (11)', 'za (5)', 'es (3)', 'se (9)', 'ch (8)', 'tw (6)', 'th (5)', 'tr (3)', 'ua (1)', 'ae (3)', 'uy (1)', 'vn (3)']"
        ],
        [
         "890",
         "5gCRApTajqwbnHHPbr2Fpi",
         "Juicy J",
         "2891371.0",
         "73",
         "['crunk', 'dirty south rap', 'gangster rap', 'hip hop', 'memphis hip hop', 'pop rap', 'rap', 'southern hip hop', 'trap']",
         "['us (1)', 'bg (3)', 'de (1)', 'gr (1)', 'ro (1)']"
        ],
        [
         "894",
         "0epOFNiUfyON9EYx7Tpr6V",
         "The Strokes",
         "4523700.0",
         "75",
         "['alternative rock', 'garage rock', 'modern rock', 'permanent wave', 'rock']",
         "['us (2)', 'ar (1)', 'cl (1)', 'lt (1)', 'pt (3)']"
        ],
        [
         "906",
         "0ekbDNE2eOq8QiaXM34wer",
         "Howie Day",
         "307341.0",
         "55",
         "['acoustic pop', 'neo mellow', 'pop rock']",
         "['my (1)', 'ph (3)', 'sg (1)', 'tw (1)', 'tr (1)']"
        ],
        [
         "976",
         "6bwVWdQfr6ttzrGLboVkjg",
         "Paul Rosenberg",
         "3790.0",
         "32",
         "[]",
         "['us (1)', 'gb (1)', 'au (1)', 'at (1)', 'be (1)', 'bg (1)', 'ca (1)', 'cy (1)', 'cz (1)', 'dk (1)', 'ee (1)', 'fi (1)', 'fr (1)', 'de (1)', 'gr (1)', 'hk (1)', 'hu (1)', 'is (1)', 'ie (1)', 'il (1)', 'it (1)', 'lv (1)', 'lt (1)', 'lu (1)', 'my (1)', 'mt (1)', 'nl (1)', 'nz (1)', 'no (1)', 'pl (1)', 'pt (1)', 'ro (1)', 'sg (1)', 'sk (1)', 'se (1)', 'ch (1)', 'vn (1)']"
        ],
        [
         "998",
         "2gBjLmx6zQnFGQJCAQpRgw",
         "Nelly",
         "2229377.0",
         "74",
         "['dance pop', 'gangster rap', 'hip hop', 'pop rap', 'southern hip hop', 'st louis rap', 'urban contemporary']",
         "['us (3)', 'gb (2)', 'au (2)', 'at (1)', 'be (1)', 'bg (1)', 'ca (4)', 'cz (1)', 'dk (2)', 'ee (2)', 'de (1)', 'gr (1)', 'hk (2)', 'hu (1)', 'is (1)', 'ie (3)', 'lv (1)', 'lt (2)', 'my (1)', 'mt (1)', 'nl (1)', 'nz (2)', 'no (1)', 'pa (1)', 'ph (1)', 'pl (1)', 'pt (1)', 'sg (1)', 'sk (1)', 'se (1)', 'ch (1)', 'tw (1)']"
        ],
        [
         "1047",
         "3EY5DxGdy7x4GelivOjS2Q",
         "Connie Francis",
         "357577.0",
         "53",
         "['adult standards', 'brill building pop', 'lounge', 'rock-and-roll', 'rockabilly']",
         "['us (1)']"
        ],
        [
         "1094",
         "3GsIlcwgQDJVjHD82mbA0Z",
         "iLoveMemphis",
         "109370.0",
         "41",
         "['chicago bop', 'viral trap']",
         "['us (2)', 'ca (1)', 'nz (1)']"
        ],
        [
         "1107",
         "2cQr2KbzdRtIFlfbHGnNsL",
         "Ziv Zaifman",
         "10354.0",
         "56",
         "['show tunes']",
         "['us (1)', 'gb (1)', 'au (1)', 'at (1)', 'cz (1)', 'do (1)', 'hk (1)', 'hu (1)', 'is (1)', 'id (1)', 'ie (1)', 'jp (1)', 'my (1)', 'mt (1)', 'mx (1)', 'nz (1)', 'no (1)', 'pa (1)', 'ph (1)', 'pt (1)', 'sg (1)', 'es (1)', 'tw (1)']"
        ],
        [
         "1131",
         "01QTIT5P1pFP3QnnFSdsJf",
         "Lupe Fiasco",
         "1782190.0",
         "66",
         "['chicago rap', 'conscious hip hop', 'hip hop', 'political hip hop', 'pop rap', 'rap', 'southern hip hop']",
         "['us (1)', 'ee (1)', 'fi (1)', 'id (1)', 'my (1)', 'nz (1)', 'no (1)', 'se (1)']"
        ],
        [
         "1145",
         "1yxSLGMDHlW21z4YXirZDS",
         "Black Eyed Peas",
         "6881366.0",
         "80",
         "['dance pop', 'pop', 'pop rap']",
         "['us (3)', 'gb (2)', 'ar (3)', 'au (3)', 'at (7)', 'be (5)', 'bo (3)', 'br (2)', 'bg (3)', 'ca (7)', 'cl (3)', 'co (5)', 'cr (3)', 'cy (3)', 'cz (3)', 'dk (3)', 'do (4)', 'ec (4)', 'eg (1)', 'sv (3)', 'ee (4)', 'fi (5)', 'fr (6)', 'de (6)', 'gr (3)', 'gt (3)', 'hn (3)', 'hk (2)', 'hu (4)', 'is (2)', 'in (1)', 'ie (3)', 'il (2)', 'it (4)', 'lv (5)', 'lt (5)', 'lu (7)', 'my (3)', 'mt (4)', 'mx (4)', 'ma (3)', 'nl (6)', 'nz (2)', 'ni (3)', 'no (4)', 'pa (3)', 'py (3)', 'pe (4)', 'ph (2)', 'pl (4)', 'pt (4)', 'ro (3)', 'ru (1)', 'sa (2)', 'sg (3)', 'sk (3)', 'za (3)', 'kr (1)', 'es (5)', 'se (4)', 'ch (6)', 'tw (3)', 'th (1)', 'tr (1)', 'ua (1)', 'ae (4)', 'uy (4)', 'ad (2)']"
        ],
        [
         "1156",
         "3oDbviiivRWhXwIE8hxkVV",
         "The Beach Boys",
         "3805849.0",
         "72",
         "['baroque pop', 'brill building pop', 'classic rock', 'psychedelic rock', 'rock', 'sunshine pop']",
         "['us (1)', 'gb (1)', 'au (1)', 'at (2)', 'be (1)', 'ca (1)', 'cy (1)', 'cz (1)', 'ee (1)', 'gr (1)', 'hu (1)', 'is (1)', 'ie (1)', 'lv (1)', 'lt (1)', 'lu (1)', 'mt (1)', 'nz (1)', 'pl (1)', 'sk (1)']"
        ],
        [
         "1161",
         "0ErzCpIMyLcjPiwT4elrtZ",
         "NLE Choppa",
         "5066308.0",
         "76",
         "['memphis hip hop']",
         "['us (15)', 'gb (1)', 'au (3)', 'at (1)', 'be (2)', 'bg (7)', 'ca (11)', 'cy (4)', 'dk (2)', 'eg (1)', 'ee (4)', 'fi (3)', 'de (1)', 'gr (4)', 'hu (4)', 'is (6)', 'ie (3)', 'il (2)', 'lv (4)', 'lt (4)', 'lu (6)', 'mt (2)', 'ma (1)', 'nl (1)', 'nz (3)', 'no (3)', 'pt (1)', 'ro (5)', 'sa (1)', 'sk (1)', 'za (4)', 'se (1)', 'ch (2)', 'ae (4)']"
        ],
        [
         "1196",
         "0v2Y5jwtcv8LiWNTRls1KM",
         "Ester Dean",
         "51494.0",
         "52",
         "[]",
         "['ca (1)', 'my (1)', 'ph (1)', 'sg (1)', 'tw (1)']"
        ]
       ],
       "shape": {
        "columns": 6,
        "rows": 1134
       }
      },
      "text/html": [
       "<div>\n",
       "<style scoped>\n",
       "    .dataframe tbody tr th:only-of-type {\n",
       "        vertical-align: middle;\n",
       "    }\n",
       "\n",
       "    .dataframe tbody tr th {\n",
       "        vertical-align: top;\n",
       "    }\n",
       "\n",
       "    .dataframe thead th {\n",
       "        text-align: right;\n",
       "    }\n",
       "</style>\n",
       "<table border=\"1\" class=\"dataframe\">\n",
       "  <thead>\n",
       "    <tr style=\"text-align: right;\">\n",
       "      <th></th>\n",
       "      <th>spotify_id</th>\n",
       "      <th>name</th>\n",
       "      <th>followers</th>\n",
       "      <th>popularity</th>\n",
       "      <th>genres</th>\n",
       "      <th>chart_hits</th>\n",
       "    </tr>\n",
       "  </thead>\n",
       "  <tbody>\n",
       "    <tr>\n",
       "      <th>15</th>\n",
       "      <td>3xs0LEzcPXtgNfMNcHzLIP</td>\n",
       "      <td>Rockwell</td>\n",
       "      <td>40344.0</td>\n",
       "      <td>58</td>\n",
       "      <td>[]</td>\n",
       "      <td>['us (1)', 'gb (1)', 'at (1)', 'be (1)', 'ca (...</td>\n",
       "    </tr>\n",
       "    <tr>\n",
       "      <th>54</th>\n",
       "      <td>0LyOADBjj28cbvJWTXUEGA</td>\n",
       "      <td>Loren Allred</td>\n",
       "      <td>111839.0</td>\n",
       "      <td>58</td>\n",
       "      <td>[deep talent show, hollywood, movie tunes]</td>\n",
       "      <td>['us (1)', 'gb (2)', 'au (2)', 'at (1)', 'cz (...</td>\n",
       "    </tr>\n",
       "    <tr>\n",
       "      <th>85</th>\n",
       "      <td>7wU2WGCJ8HxkekHHE2QLul</td>\n",
       "      <td>Fuego</td>\n",
       "      <td>253571.0</td>\n",
       "      <td>67</td>\n",
       "      <td>[latin hip hop, rap dominicano, reggaeton, reg...</td>\n",
       "      <td>['ar (3)', 'bo (2)', 'cl (2)', 'co (3)', 'cr (...</td>\n",
       "    </tr>\n",
       "    <tr>\n",
       "      <th>88</th>\n",
       "      <td>2l35CQqtYRh3d8ZIiBep4v</td>\n",
       "      <td>MKTO</td>\n",
       "      <td>995449.0</td>\n",
       "      <td>66</td>\n",
       "      <td>[dance pop, pop, pop rap, pop rock, post-teen ...</td>\n",
       "      <td>['us (3)', 'gb (2)', 'au (5)', 'at (1)', 'be (...</td>\n",
       "    </tr>\n",
       "    <tr>\n",
       "      <th>152</th>\n",
       "      <td>7h1amg0X7Q5d0D5KfuyKTg</td>\n",
       "      <td>Pyrex</td>\n",
       "      <td>29130.0</td>\n",
       "      <td>57</td>\n",
       "      <td>[italian hip hop, trap italiana]</td>\n",
       "      <td>['it (3)']</td>\n",
       "    </tr>\n",
       "    <tr>\n",
       "      <th>...</th>\n",
       "      <td>...</td>\n",
       "      <td>...</td>\n",
       "      <td>...</td>\n",
       "      <td>...</td>\n",
       "      <td>...</td>\n",
       "      <td>...</td>\n",
       "    </tr>\n",
       "    <tr>\n",
       "      <th>154021</th>\n",
       "      <td>5oFkj1qSlyBUmV5d6Edgtq</td>\n",
       "      <td>Cozz</td>\n",
       "      <td>175894.0</td>\n",
       "      <td>54</td>\n",
       "      <td>[underground hip hop]</td>\n",
       "      <td>NaN</td>\n",
       "    </tr>\n",
       "    <tr>\n",
       "      <th>154404</th>\n",
       "      <td>5YCU9eHY4IYTyNa8XRFuw9</td>\n",
       "      <td>Alex Hosking</td>\n",
       "      <td>3743.0</td>\n",
       "      <td>48</td>\n",
       "      <td>[]</td>\n",
       "      <td>NaN</td>\n",
       "    </tr>\n",
       "    <tr>\n",
       "      <th>155001</th>\n",
       "      <td>3nQ59hkeciYoR6RreQL4Rv</td>\n",
       "      <td>Darren Criss</td>\n",
       "      <td>117746.0</td>\n",
       "      <td>52</td>\n",
       "      <td>[]</td>\n",
       "      <td>NaN</td>\n",
       "    </tr>\n",
       "    <tr>\n",
       "      <th>155024</th>\n",
       "      <td>79QO0Xmn1dZhvaLicS2Yrs</td>\n",
       "      <td>The Night Game</td>\n",
       "      <td>37079.0</td>\n",
       "      <td>44</td>\n",
       "      <td>[indie poptimism, modern alternative rock]</td>\n",
       "      <td>NaN</td>\n",
       "    </tr>\n",
       "    <tr>\n",
       "      <th>155870</th>\n",
       "      <td>3a9qv6NLHnsVxJUtKOMHvD</td>\n",
       "      <td>The Glitch Mob</td>\n",
       "      <td>538974.0</td>\n",
       "      <td>61</td>\n",
       "      <td>[edm, electro house, glitch, glitch hop, indie...</td>\n",
       "      <td>NaN</td>\n",
       "    </tr>\n",
       "  </tbody>\n",
       "</table>\n",
       "<p>1134 rows × 6 columns</p>\n",
       "</div>"
      ],
      "text/plain": [
       "                    spotify_id            name  followers  popularity  \\\n",
       "15      3xs0LEzcPXtgNfMNcHzLIP        Rockwell    40344.0          58   \n",
       "54      0LyOADBjj28cbvJWTXUEGA    Loren Allred   111839.0          58   \n",
       "85      7wU2WGCJ8HxkekHHE2QLul           Fuego   253571.0          67   \n",
       "88      2l35CQqtYRh3d8ZIiBep4v            MKTO   995449.0          66   \n",
       "152     7h1amg0X7Q5d0D5KfuyKTg           Pyrex    29130.0          57   \n",
       "...                        ...             ...        ...         ...   \n",
       "154021  5oFkj1qSlyBUmV5d6Edgtq            Cozz   175894.0          54   \n",
       "154404  5YCU9eHY4IYTyNa8XRFuw9    Alex Hosking     3743.0          48   \n",
       "155001  3nQ59hkeciYoR6RreQL4Rv    Darren Criss   117746.0          52   \n",
       "155024  79QO0Xmn1dZhvaLicS2Yrs  The Night Game    37079.0          44   \n",
       "155870  3a9qv6NLHnsVxJUtKOMHvD  The Glitch Mob   538974.0          61   \n",
       "\n",
       "                                                   genres  \\\n",
       "15                                                     []   \n",
       "54             [deep talent show, hollywood, movie tunes]   \n",
       "85      [latin hip hop, rap dominicano, reggaeton, reg...   \n",
       "88      [dance pop, pop, pop rap, pop rock, post-teen ...   \n",
       "152                      [italian hip hop, trap italiana]   \n",
       "...                                                   ...   \n",
       "154021                              [underground hip hop]   \n",
       "154404                                                 []   \n",
       "155001                                                 []   \n",
       "155024         [indie poptimism, modern alternative rock]   \n",
       "155870  [edm, electro house, glitch, glitch hop, indie...   \n",
       "\n",
       "                                               chart_hits  \n",
       "15      ['us (1)', 'gb (1)', 'at (1)', 'be (1)', 'ca (...  \n",
       "54      ['us (1)', 'gb (2)', 'au (2)', 'at (1)', 'cz (...  \n",
       "85      ['ar (3)', 'bo (2)', 'cl (2)', 'co (3)', 'cr (...  \n",
       "88      ['us (3)', 'gb (2)', 'au (5)', 'at (1)', 'be (...  \n",
       "152                                            ['it (3)']  \n",
       "...                                                   ...  \n",
       "154021                                                NaN  \n",
       "154404                                                NaN  \n",
       "155001                                                NaN  \n",
       "155024                                                NaN  \n",
       "155870                                                NaN  \n",
       "\n",
       "[1134 rows x 6 columns]"
      ]
     },
     "execution_count": 24,
     "metadata": {},
     "output_type": "execute_result"
    }
   ],
   "source": [
    "final_df"
   ]
  },
  {
   "cell_type": "code",
   "execution_count": 61,
   "metadata": {},
   "outputs": [
    {
     "data": {
      "application/vnd.microsoft.datawrangler.viewer.v0+json": {
       "columns": [
        {
         "name": "index",
         "rawType": "int64",
         "type": "integer"
        },
        {
         "name": "spotify_id",
         "rawType": "object",
         "type": "string"
        },
        {
         "name": "name",
         "rawType": "object",
         "type": "string"
        },
        {
         "name": "followers",
         "rawType": "float64",
         "type": "float"
        },
        {
         "name": "popularity",
         "rawType": "int64",
         "type": "integer"
        },
        {
         "name": "genres",
         "rawType": "object",
         "type": "unknown"
        },
        {
         "name": "chart_hits",
         "rawType": "object",
         "type": "unknown"
        }
       ],
       "conversionMethod": "pd.DataFrame",
       "ref": "2487abef-bb01-4b4b-b4b4-f42dda99c849",
       "rows": [
        [
         "85",
         "7wU2WGCJ8HxkekHHE2QLul",
         "Fuego",
         "253571.0",
         "67",
         "['latin hip hop', 'rap dominicano', 'reggaeton', 'reggaeton flow', 'trap latino']",
         "['ar (3)', 'bo (2)', 'cl (2)', 'co (3)', 'cr (2)', 'do (4)', 'ec (3)', 'sv (2)', 'fr (1)', 'gt (2)', 'hn (2)', 'it (1)', 'lu (1)', 'mx (1)', 'ni (2)', 'pa (3)', 'py (2)', 'pe (2)', 'es (6)', 'uy (4)']"
        ],
        [
         "88",
         "2l35CQqtYRh3d8ZIiBep4v",
         "MKTO",
         "995449.0",
         "66",
         "['dance pop', 'pop', 'pop rap', 'pop rock', 'post-teen pop', 'uk pop']",
         "['us (3)', 'gb (2)', 'au (5)', 'at (1)', 'be (2)', 'bo (1)', 'br (2)', 'bg (2)', 'ca (3)', 'cl (1)', 'co (1)', 'cr (1)', 'cz (3)', 'dk (2)', 'do (1)', 'ec (1)', 'sv (1)', 'ee (2)', 'fi (2)', 'fr (1)', 'de (1)', 'gr (2)', 'gt (1)', 'hn (1)', 'hk (3)', 'hu (3)', 'is (2)', 'ie (2)', 'it (2)', 'lv (2)', 'lt (2)', 'lu (1)', 'my (4)', 'mt (2)', 'nl (3)', 'nz (5)', 'ni (1)', 'no (3)', 'pa (1)', 'py (1)', 'pe (1)', 'ph (3)', 'pl (2)', 'pt (2)', 'sg (3)', 'sk (2)', 'za (1)', 'se (3)', 'ch (3)', 'tw (3)', 'tr (3)', 'ae (1)', 'uy (1)']"
        ],
        [
         "152",
         "7h1amg0X7Q5d0D5KfuyKTg",
         "Pyrex",
         "29130.0",
         "57",
         "['italian hip hop', 'trap italiana']",
         "['it (3)']"
        ],
        [
         "171",
         "7EK1bQADBoqbYXnT4Cqv9w",
         "John Denver",
         "1646622.0",
         "67",
         "['classic country pop', 'folk', 'folk rock', 'mellow gold', 'singer-songwriter', 'soft rock']",
         "['gb (1)', 'be (2)', 'ca (2)', 'ee (1)', 'hu (2)', 'ie (1)', 'lv (1)', 'lt (1)', 'lu (2)', 'mt (2)', 'nl (1)', 'pl (1)', 'th (1)']"
        ],
        [
         "231",
         "2vm8GdHyrJh2O2MfbQFYG0",
         "Ingrid Michaelson",
         "780402.0",
         "59",
         "['acoustic pop', 'ectofolk', 'lilith', 'neo mellow', 'pop rock']",
         "['us (1)', 'at (1)', 'ca (2)', 'cz (1)', 'ee (1)', 'de (1)', 'gr (1)', 'hk (2)', 'hu (1)', 'is (1)', 'ie (1)', 'lv (2)', 'lt (1)', 'my (2)', 'mt (2)', 'ph (2)', 'pl (1)', 'sg (2)', 'sk (1)', 'ch (1)', 'tw (2)', 'tr (1)']"
        ],
        [
         "249",
         "2GHclqNVjqGuiE5mA7BEoc",
         "Common",
         "833451.0",
         "62",
         "['alternative hip hop', 'chicago rap', 'conscious hip hop', 'gangster rap', 'hip hop', 'neo soul', 'political hip hop', 'rap']",
         "['us (1)', 'be (1)', 'ca (1)', 'dk (1)', 'hk (1)', 'is (1)', 'ie (1)', 'pa (1)', 'pl (1)', 'pt (1)', 'sk (1)']"
        ],
        [
         "303",
         "5RZjpmuD14JKXvB8Ry1G1u",
         "Amanda Seyfried",
         "85707.0",
         "67",
         "['hollywood', 'pop']",
         "['gb (2)', 'hu (1)', 'is (3)', 'ie (3)', 'nz (1)', 'no (2)']"
        ],
        [
         "317",
         "3iPdJaQD2j4rJXuDUmegE8",
         "Mario",
         "866.0",
         "1",
         "['italian pop']",
         "['it (1)']"
        ],
        [
         "343",
         "6ghiFYcwn2Vzl6K50U0UPz",
         "Michael Ray",
         "430842.0",
         "56",
         "['contemporary country', 'country', 'country pop', 'country road', 'modern country rock']",
         "['us (1)', 'ca (1)', 'tw (1)']"
        ],
        [
         "424",
         "4KWTAlx2RvbpseOGMEmROg",
         "R.E.M.",
         "3671605.0",
         "72",
         "['alternative rock', 'athens indie', 'permanent wave', 'pop rock', 'rock']",
         "['ar (1)', 'au (1)', 'be (1)', 'cr (1)', 'nz (1)', 'pe (1)', 'pl (1)', 'es (2)', 'tr (1)']"
        ],
        [
         "460",
         "0AsThoR4KZSVktALiNcQwW",
         "Chloe x Halle",
         "1857184.0",
         "60",
         "['alternative r&b', 'dance pop', 'pop', 'post-teen pop', 'r&b', 'rap', 'urban contemporary']",
         "['us (1)', 'my (1)', 'nz (1)', 'za (2)']"
        ],
        [
         "466",
         "6vWDO969PvNqNYHIOW5v0m",
         "Beyoncé",
         "32087569.0",
         "88",
         "['dance pop', 'pop', 'r&b']",
         "['us (31)', 'gb (34)', 'ar (2)', 'au (27)', 'at (5)', 'be (25)', 'bo (1)', 'br (32)', 'bg (17)', 'ca (25)', 'cl (2)', 'co (2)', 'cr (3)', 'cy (14)', 'cz (6)', 'dk (13)', 'do (7)', 'ec (2)', 'eg (1)', 'sv (2)', 'ee (16)', 'fi (7)', 'fr (13)', 'de (6)', 'gr (9)', 'gt (2)', 'hn (2)', 'hk (7)', 'hu (9)', 'is (35)', 'in (1)', 'id (2)', 'ie (37)', 'il (10)', 'it (4)', 'lv (13)', 'lt (19)', 'lu (15)', 'my (7)', 'mt (9)', 'mx (2)', 'ma (2)', 'nl (23)', 'nz (24)', 'ni (1)', 'no (16)', 'pa (5)', 'py (2)', 'pe (2)', 'ph (10)', 'pl (11)', 'pt (24)', 'ro (5)', 'sa (2)', 'sg (10)', 'sk (8)', 'za (26)', 'kr (5)', 'es (4)', 'se (17)', 'ch (13)', 'tw (11)', 'th (2)', 'tr (6)', 'ae (13)', 'uy (2)', 'vn (2)']"
        ],
        [
         "493",
         "06nevPmNVfWUXyZkccahL8",
         "Gregory Porter",
         "555161.0",
         "60",
         "['contemporary vocal jazz', 'jazz pop', 'neo soul', 'vocal jazz']",
         "['be (1)', 'fr (1)', 'de (1)', 'nl (4)']"
        ],
        [
         "556",
         "1Td3Fc1O4YfK9KxeZDAoOu",
         "Blue Shade",
         "58108.0",
         "44",
         "['thai indie rock', 'thai pop']",
         "['th (4)']"
        ],
        [
         "560",
         "378dH6EszOLFShpRzAQkVM",
         "Lindsey Stirling",
         "1943879.0",
         "64",
         "['bow pop', 'pop violin']",
         "['at (1)']"
        ],
        [
         "567",
         "4xnihxcoXWK3UqryOSnbw5",
         "Sasha Alex Sloan",
         "1174594.0",
         "70",
         "['alt z', 'electropop', 'pop']",
         "['us (1)', 'ca (1)', 'my (3)', 'ro (1)', 'sg (3)', 'tw (2)', 'th (1)', 'vn (2)']"
        ],
        [
         "574",
         "1umTeYMbiCSj1nl2fqXVcZ",
         "The Main Level",
         "15509.0",
         "28",
         "['scandipop']",
         "['cz (1)', 'gr (1)', 'hu (1)', 'lt (1)', 'mt (1)', 'no (5)', 'pl (1)', 'sk (1)', 'ch (1)']"
        ],
        [
         "665",
         "3gggmBN0erstm3YJvEGe3t",
         "Jake Miller",
         "302885.0",
         "58",
         "['australian pop', 'indie pop rap', 'pop', 'post-teen pop']",
         "['ph (1)', 'tw (1)']"
        ],
        [
         "676",
         "6U3ybJ9UHNKEdsH7ktGBZ7",
         "JID",
         "987676.0",
         "80",
         "['hip hop', 'rap']",
         "['us (4)', 'ca (2)', 'za (1)']"
        ],
        [
         "694",
         "1vSN1fsvrzpbttOYGsliDr",
         "Tori Kelly",
         "2052997.0",
         "67",
         "['dance pop']",
         "['us (4)', 'gb (1)', 'au (3)', 'be (1)', 'bg (1)', 'ca (6)', 'cz (1)', 'dk (1)', 'ee (1)', 'fi (1)', 'fr (1)', 'gr (1)', 'hk (1)', 'hu (1)', 'is (1)', 'id (1)', 'lv (1)', 'lt (1)', 'lu (1)', 'my (2)', 'mt (1)', 'nl (3)', 'nz (4)', 'no (2)', 'ph (2)', 'pl (1)', 'pt (1)', 'sg (1)', 'sk (1)', 'se (2)', 'ch (1)', 'tw (1)', 'tr (1)']"
        ],
        [
         "737",
         "6UBA15slIuadJ8h2lPRPos",
         "Tech N9ne",
         "2523206.0",
         "70",
         "['hip hop', 'kansas city hip hop', 'pop rap', 'southern hip hop']",
         "['us (3)', 'au (1)', 'at (1)', 'bg (1)', 'ca (3)', 'cz (1)', 'ee (1)', 'fi (1)', 'hu (1)', 'is (1)', 'lv (1)', 'lt (1)', 'nz (2)', 'no (1)', 'ro (1)', 'sa (1)', 'sg (1)', 'sk (1)', 'ae (1)']"
        ],
        [
         "782",
         "7rewR1TVjhisjI6gauUamf",
         "The Crystals",
         "100528.0",
         "49",
         "['brill building pop', 'bubblegum pop', 'classic girl group', 'rock-and-roll', 'rockabilly', 'soul']",
         "['gb (1)', 'ie (1)']"
        ],
        [
         "785",
         "6V0UIhxibbgh9q9eYKImW7",
         "FRANKIE",
         "12871.0",
         "25",
         "['indie poptimism']",
         "['dk (1)', 'se (1)']"
        ],
        [
         "882",
         "4xRYI6VqpkE3UwrDrAZL8L",
         "Logic",
         "5783112.0",
         "77",
         "['conscious hip hop', 'dmv rap', 'hip hop', 'pop rap', 'rap']",
         "['us (89)', 'gb (14)', 'ar (1)', 'au (10)', 'at (7)', 'be (7)', 'bo (2)', 'br (1)', 'bg (26)', 'ca (57)', 'co (1)', 'cr (3)', 'cy (18)', 'cz (8)', 'dk (7)', 'do (3)', 'ec (1)', 'eg (3)', 'sv (3)', 'ee (14)', 'fi (9)', 'fr (3)', 'de (7)', 'gr (27)', 'gt (3)', 'hn (3)', 'hk (6)', 'hu (12)', 'is (8)', 'in (2)', 'id (4)', 'ie (10)', 'il (7)', 'it (3)', 'jp (3)', 'lv (18)', 'lt (16)', 'lu (20)', 'my (6)', 'mt (19)', 'mx (1)', 'ma (2)', 'nl (5)', 'nz (17)', 'ni (2)', 'no (12)', 'pa (3)', 'py (1)', 'pe (1)', 'ph (4)', 'pl (5)', 'pt (12)', 'ro (15)', 'sa (3)', 'sg (6)', 'sk (11)', 'za (5)', 'es (3)', 'se (9)', 'ch (8)', 'tw (6)', 'th (5)', 'tr (3)', 'ua (1)', 'ae (3)', 'uy (1)', 'vn (3)']"
        ],
        [
         "890",
         "5gCRApTajqwbnHHPbr2Fpi",
         "Juicy J",
         "2891371.0",
         "73",
         "['crunk', 'dirty south rap', 'gangster rap', 'hip hop', 'memphis hip hop', 'pop rap', 'rap', 'southern hip hop', 'trap']",
         "['us (1)', 'bg (3)', 'de (1)', 'gr (1)', 'ro (1)']"
        ],
        [
         "906",
         "0ekbDNE2eOq8QiaXM34wer",
         "Howie Day",
         "307341.0",
         "55",
         "['acoustic pop', 'neo mellow', 'pop rock']",
         "['my (1)', 'ph (3)', 'sg (1)', 'tw (1)', 'tr (1)']"
        ],
        [
         "1047",
         "3EY5DxGdy7x4GelivOjS2Q",
         "Connie Francis",
         "357577.0",
         "53",
         "['adult standards', 'brill building pop', 'lounge', 'rock-and-roll', 'rockabilly']",
         "['us (1)']"
        ],
        [
         "1094",
         "3GsIlcwgQDJVjHD82mbA0Z",
         "iLoveMemphis",
         "109370.0",
         "41",
         "['chicago bop', 'viral trap']",
         "['us (2)', 'ca (1)', 'nz (1)']"
        ],
        [
         "1131",
         "01QTIT5P1pFP3QnnFSdsJf",
         "Lupe Fiasco",
         "1782190.0",
         "66",
         "['chicago rap', 'conscious hip hop', 'hip hop', 'political hip hop', 'pop rap', 'rap', 'southern hip hop']",
         "['us (1)', 'ee (1)', 'fi (1)', 'id (1)', 'my (1)', 'nz (1)', 'no (1)', 'se (1)']"
        ],
        [
         "1253",
         "3y24n3XhZ96wgwRXjvS17T",
         "Coolio",
         "685545.0",
         "68",
         "['g funk', 'gangster rap', 'hip hop', 'rap', 'west coast rap']",
         "['gb (1)', 'ar (1)', 'au (1)', 'at (1)', 'be (1)', 'bg (1)', 'ca (1)', 'cl (1)', 'co (1)', 'cy (1)', 'cz (1)', 'eg (1)', 'ee (1)', 'fi (1)', 'fr (1)', 'de (1)', 'gr (1)', 'hu (1)', 'is (1)', 'ie (1)', 'lv (1)', 'lt (1)', 'lu (1)', 'mx (1)', 'ma (1)', 'nl (1)', 'nz (1)', 'no (1)', 'ro (1)', 'ru (1)', 'sa (1)', 'sk (1)', 'se (1)', 'ch (1)', 'tr (1)', 'ua (1)', 'ae (1)']"
        ],
        [
         "1265",
         "3ScY9CQxNLQei8Umvpx5g6",
         "Fat Joe",
         "1408217.0",
         "67",
         "['bronx hip hop', 'dance pop', 'east coast hip hop', 'gangster rap', 'hardcore hip hop', 'hip hop', 'hip pop', 'pop rap', 'rap', 'trap']",
         "['us (2)', 'gb (1)', 'bg (1)', 'ca (4)', 'do (2)', 'de (1)', 'gr (1)', 'ie (1)', 'lv (1)', 'lu (1)', 'nz (1)', 'pt (1)', 'sk (1)', 'ch (1)']"
        ],
        [
         "1270",
         "7uubu7R9BJ9dZ5cgQIZQ7U",
         "Unga Scener",
         "7714.0",
         "39",
         "['swedish drill', 'swedish hip hop', 'swedish trap pop']",
         "['se (2)']"
        ],
        [
         "1333",
         "6g8AmloI8egfrr3dm3SnUL",
         "TWENTY88",
         "472154.0",
         "49",
         "['pop r&b', 'r&b']",
         "['us (1)', 'ca (1)']"
        ],
        [
         "1346",
         "7mEIug7XUlQHikrFxjTWes",
         "Neil Diamond",
         "2109356.0",
         "67",
         "['adult standards', 'brill building pop', 'classic rock', 'folk rock', 'mellow gold', 'singer-songwriter', 'soft rock', 'yacht rock']",
         "['gb (1)', 'mt (1)', 'nz (1)']"
        ],
        [
         "1381",
         "4Ai0pGz6GhQavjzaRhPTvz",
         "DIVINE",
         "4435591.0",
         "65",
         "['desi hip hop', 'desi pop', 'desi trap', 'hindi hip hop']",
         "['in (21)']"
        ],
        [
         "1389",
         "6hfwwpXqZPRC9CsKI7qtv1",
         "Alina Baraz",
         "1166998.0",
         "65",
         "['electropop', 'etherpop', 'pop', 'r&b']",
         "['at (1)', 'de (1)', 'nl (1)', 'ch (1)']"
        ],
        [
         "1405",
         "6QrQ7OrISRYIfS5mtacaw2",
         "Jaymes Young",
         "818554.0",
         "71",
         "['modern rock', 'pop', 'uk pop']",
         "['us (1)', 'gb (1)', 'au (1)', 'at (2)', 'be (2)', 'bo (1)', 'br (1)', 'bg (1)', 'ca (1)', 'cl (1)', 'cr (1)', 'cy (1)', 'cz (1)', 'dk (1)', 'do (1)', 'ec (1)', 'eg (1)', 'sv (1)', 'ee (1)', 'fi (1)', 'fr (1)', 'de (1)', 'gr (1)', 'gt (1)', 'hn (1)', 'hk (1)', 'hu (1)', 'is (1)', 'in (1)', 'id (1)', 'ie (1)', 'il (1)', 'it (1)', 'lv (1)', 'lt (1)', 'lu (2)', 'my (1)', 'mx (1)', 'ma (1)', 'nl (2)', 'nz (1)', 'ni (1)', 'no (2)', 'pa (1)', 'ph (1)', 'pl (1)', 'pt (1)', 'ro (1)', 'ru (1)', 'sa (1)', 'sg (1)', 'sk (1)', 'za (1)', 'kr (1)', 'es (1)', 'se (2)', 'ch (2)', 'tw (2)', 'th (1)', 'tr (1)', 'ua (1)', 'ae (1)', 'vn (1)']"
        ],
        [
         "1441",
         "4Rxn7Im3LGfyRkY2FlHhWi",
         "Nick Jonas",
         "8312684.0",
         "64",
         "['dance pop', 'pop', 'post-teen pop', 'uk pop']",
         "['us (7)', 'gb (5)', 'ar (2)', 'au (6)', 'at (4)', 'be (5)', 'bo (4)', 'br (6)', 'bg (10)', 'ca (10)', 'cl (2)', 'co (3)', 'cr (2)', 'cy (2)', 'cz (11)', 'dk (7)', 'do (5)', 'ec (2)', 'sv (3)', 'ee (8)', 'fi (5)', 'fr (4)', 'de (4)', 'gr (10)', 'gt (3)', 'hn (4)', 'hk (9)', 'hu (9)', 'is (4)', 'id (4)', 'ie (6)', 'it (3)', 'lv (9)', 'lt (11)', 'lu (4)', 'my (8)', 'mt (9)', 'mx (4)', 'nl (3)', 'nz (8)', 'ni (1)', 'no (9)', 'pa (3)', 'py (2)', 'pe (3)', 'ph (9)', 'pl (8)', 'pt (6)', 'ro (1)', 'sg (10)', 'sk (9)', 'kr (2)', 'es (2)', 'se (8)', 'ch (8)', 'tw (11)', 'th (4)', 'tr (5)', 'uy (3)', 'vn (1)']"
        ],
        [
         "1463",
         "1gPhS1zisyXr5dHTYZyiMe",
         "Kevin Gates",
         "5326006.0",
         "74",
         "['baton rouge rap', 'pop rap', 'rap', 'southern hip hop', 'trap']",
         "['us (13)', 'au (2)', 'bg (3)', 'ca (5)', 'cy (1)', 'cz (1)', 'ee (1)', 'fi (1)', 'gr (2)', 'hk (1)', 'hu (1)', 'is (3)', 'lv (5)', 'lt (1)', 'my (1)', 'nz (3)', 'no (2)', 'pl (2)', 'pt (1)', 'sg (1)', 'sk (2)', 'za (1)', 'ch (2)', 'tw (2)', 'tr (1)']"
        ],
        [
         "1470",
         "5gznATMVO85ZcLTkE9ULU7",
         "Lenny Kravitz",
         "2689778.0",
         "68",
         "['permanent wave', 'pop rock', 'rock']",
         "['at (1)', 'be (1)', 'ca (1)', 'fi (1)', 'fr (1)', 'de (1)', 'it (1)', 'nl (1)', 'pl (1)', 'ch (1)']"
        ],
        [
         "1475",
         "1ShZZUjkbXCjhwrb18BA8I",
         "Bryce Vine",
         "464953.0",
         "66",
         "['electropop', 'pop', 'pop rap']",
         "['us (2)', 'be (1)', 'bg (1)', 'ca (1)', 'cy (1)', 'cz (1)', 'ee (2)', 'gr (1)', 'hk (1)', 'hu (1)', 'ie (1)', 'il (1)', 'lv (1)', 'lt (2)', 'lu (1)', 'mt (2)', 'pt (1)', 'ro (1)', 'sg (1)', 'sk (1)', 'tw (1)']"
        ],
        [
         "1490",
         "4exLIFE8sISLr28sqG1qNX",
         "Travis Barker",
         "388597.0",
         "71",
         "['rap rock']",
         "['ca (1)']"
        ],
        [
         "1568",
         "04gDigrS5kc9YWfZHwBETP",
         "Maroon 5",
         "37808723.0",
         "85",
         "['pop']",
         "['us (21)', 'gb (15)', 'ar (16)', 'au (17)', 'at (14)', 'be (19)', 'bo (15)', 'br (18)', 'bg (17)', 'ca (21)', 'cl (16)', 'co (15)', 'cr (17)', 'cy (13)', 'cz (20)', 'dk (14)', 'do (12)', 'ec (16)', 'eg (4)', 'sv (17)', 'ee (20)', 'fi (13)', 'fr (12)', 'de (11)', 'gr (19)', 'gt (15)', 'hn (14)', 'hk (34)', 'hu (20)', 'is (13)', 'in (4)', 'id (16)', 'ie (17)', 'il (24)', 'it (14)', 'jp (11)', 'lv (19)', 'lt (19)', 'lu (16)', 'my (31)', 'mt (17)', 'mx (19)', 'ma (4)', 'nl (13)', 'nz (17)', 'ni (14)', 'no (17)', 'pa (17)', 'py (14)', 'pe (20)', 'ph (33)', 'pl (15)', 'pt (24)', 'ro (6)', 'sa (5)', 'sg (33)', 'sk (19)', 'za (4)', 'kr (3)', 'es (11)', 'se (17)', 'ch (20)', 'tw (43)', 'th (14)', 'tr (15)', 'ua (2)', 'ae (10)', 'uy (16)', 'vn (9)', 'ad (1)']"
        ],
        [
         "1591",
         "4npEfmQ6YuiwW1GpUmaq3F",
         "Ava Max",
         "5630195.0",
         "80",
         "['dance pop', 'pop']",
         "['us (5)', 'gb (5)', 'au (6)', 'at (10)', 'be (9)', 'br (1)', 'bg (5)', 'ca (6)', 'cy (6)', 'cz (7)', 'dk (9)', 'do (1)', 'eg (1)', 'ee (8)', 'fi (13)', 'fr (9)', 'de (10)', 'gr (5)', 'hn (1)', 'hk (5)', 'hu (11)', 'is (7)', 'id (3)', 'ie (6)', 'il (4)', 'it (4)', 'jp (3)', 'lv (6)', 'lt (7)', 'lu (10)', 'my (6)', 'mt (5)', 'mx (1)', 'ma (4)', 'nl (9)', 'nz (4)', 'no (14)', 'pa (1)', 'ph (2)', 'pl (10)', 'pt (4)', 'ro (6)', 'ru (2)', 'sa (2)', 'sg (6)', 'sk (7)', 'za (5)', 'kr (2)', 'es (2)', 'se (10)', 'ch (9)', 'tw (8)', 'th (3)', 'tr (1)', 'ua (5)', 'ae (6)', 'uy (1)', 'vn (6)']"
        ],
        [
         "1636",
         "31TPClRtHm23RisEBtV3X7",
         "Justin Timberlake",
         "12170249.0",
         "80",
         "['dance pop', 'pop']",
         "['us (15)', 'gb (8)', 'ar (3)', 'au (6)', 'at (6)', 'be (9)', 'bo (2)', 'br (9)', 'bg (16)', 'ca (12)', 'cl (2)', 'co (3)', 'cr (2)', 'cy (7)', 'cz (8)', 'dk (9)', 'do (5)', 'ec (2)', 'sv (2)', 'ee (12)', 'fi (6)', 'fr (5)', 'de (7)', 'gr (9)', 'gt (4)', 'hn (4)', 'hk (10)', 'hu (9)', 'is (13)', 'id (5)', 'ie (5)', 'il (2)', 'it (6)', 'jp (3)', 'lv (9)', 'lt (13)', 'lu (7)', 'my (10)', 'mt (7)', 'mx (4)', 'nl (12)', 'nz (6)', 'ni (1)', 'no (7)', 'pa (5)', 'py (1)', 'pe (1)', 'ph (7)', 'pl (12)', 'pt (8)', 'ro (2)', 'sg (8)', 'sk (13)', 'es (4)', 'se (7)', 'ch (9)', 'tw (10)', 'th (4)', 'tr (10)', 'uy (2)', 'vn (2)', 'ad (1)']"
        ],
        [
         "1686",
         "3luonLzvSOxdU8ytCaEIK8",
         "IC3PEAK",
         "913925.0",
         "60",
         "['russian witch house', 'viral rap', 'witch house']",
         "['ru (2)', 'ua (1)']"
        ],
        [
         "1724",
         "3tJoFztHeIJkJWMrx0td2f",
         "Moneybagg Yo",
         "3141656.0",
         "78",
         "['hip hop', 'memphis hip hop', 'rap', 'southern hip hop', 'tennessee hip hop', 'trap']",
         "['us (11)', 'ca (3)', 'nz (1)']"
        ],
        [
         "1826",
         "2M3vnW1p5w4uPRkLYTbvdB",
         "Rusted Root",
         "176727.0",
         "57",
         "['jam band', 'pittsburgh rock', 'pop rock']",
         "['cz (1)', 'gr (1)', 'ie (1)', 'pl (1)', 'sk (1)', 'ch (1)', 'tw (1)']"
        ],
        [
         "1864",
         "2siHvYaxjaW5rKVRiIrMYH",
         "Anastacia",
         "309739.0",
         "60",
         "['dance pop']",
         "['cy (1)', 'mx (1)', 'tr (1)']"
        ],
        [
         "1904",
         "2xGCGoulmU85qYdpb2Z4xx",
         "Elliot Moss",
         "147843.0",
         "49",
         "['nyc pop']",
         "['ar (1)', 'fr (1)', 'lt (1)', 'pe (1)']"
        ]
       ],
       "shape": {
        "columns": 6,
        "rows": 585
       }
      },
      "text/html": [
       "<div>\n",
       "<style scoped>\n",
       "    .dataframe tbody tr th:only-of-type {\n",
       "        vertical-align: middle;\n",
       "    }\n",
       "\n",
       "    .dataframe tbody tr th {\n",
       "        vertical-align: top;\n",
       "    }\n",
       "\n",
       "    .dataframe thead th {\n",
       "        text-align: right;\n",
       "    }\n",
       "</style>\n",
       "<table border=\"1\" class=\"dataframe\">\n",
       "  <thead>\n",
       "    <tr style=\"text-align: right;\">\n",
       "      <th></th>\n",
       "      <th>spotify_id</th>\n",
       "      <th>name</th>\n",
       "      <th>followers</th>\n",
       "      <th>popularity</th>\n",
       "      <th>genres</th>\n",
       "      <th>chart_hits</th>\n",
       "    </tr>\n",
       "  </thead>\n",
       "  <tbody>\n",
       "    <tr>\n",
       "      <th>85</th>\n",
       "      <td>7wU2WGCJ8HxkekHHE2QLul</td>\n",
       "      <td>Fuego</td>\n",
       "      <td>253571.0</td>\n",
       "      <td>67</td>\n",
       "      <td>[latin hip hop, rap dominicano, reggaeton, reg...</td>\n",
       "      <td>['ar (3)', 'bo (2)', 'cl (2)', 'co (3)', 'cr (...</td>\n",
       "    </tr>\n",
       "    <tr>\n",
       "      <th>88</th>\n",
       "      <td>2l35CQqtYRh3d8ZIiBep4v</td>\n",
       "      <td>MKTO</td>\n",
       "      <td>995449.0</td>\n",
       "      <td>66</td>\n",
       "      <td>[dance pop, pop, pop rap, pop rock, post-teen ...</td>\n",
       "      <td>['us (3)', 'gb (2)', 'au (5)', 'at (1)', 'be (...</td>\n",
       "    </tr>\n",
       "    <tr>\n",
       "      <th>152</th>\n",
       "      <td>7h1amg0X7Q5d0D5KfuyKTg</td>\n",
       "      <td>Pyrex</td>\n",
       "      <td>29130.0</td>\n",
       "      <td>57</td>\n",
       "      <td>[italian hip hop, trap italiana]</td>\n",
       "      <td>['it (3)']</td>\n",
       "    </tr>\n",
       "    <tr>\n",
       "      <th>171</th>\n",
       "      <td>7EK1bQADBoqbYXnT4Cqv9w</td>\n",
       "      <td>John Denver</td>\n",
       "      <td>1646622.0</td>\n",
       "      <td>67</td>\n",
       "      <td>[classic country pop, folk, folk rock, mellow ...</td>\n",
       "      <td>['gb (1)', 'be (2)', 'ca (2)', 'ee (1)', 'hu (...</td>\n",
       "    </tr>\n",
       "    <tr>\n",
       "      <th>231</th>\n",
       "      <td>2vm8GdHyrJh2O2MfbQFYG0</td>\n",
       "      <td>Ingrid Michaelson</td>\n",
       "      <td>780402.0</td>\n",
       "      <td>59</td>\n",
       "      <td>[acoustic pop, ectofolk, lilith, neo mellow, p...</td>\n",
       "      <td>['us (1)', 'at (1)', 'ca (2)', 'cz (1)', 'ee (...</td>\n",
       "    </tr>\n",
       "    <tr>\n",
       "      <th>...</th>\n",
       "      <td>...</td>\n",
       "      <td>...</td>\n",
       "      <td>...</td>\n",
       "      <td>...</td>\n",
       "      <td>...</td>\n",
       "      <td>...</td>\n",
       "    </tr>\n",
       "    <tr>\n",
       "      <th>150515</th>\n",
       "      <td>7ahuvq1mbb4idwG1iJbSFG</td>\n",
       "      <td>Cassadee Pope</td>\n",
       "      <td>231195.0</td>\n",
       "      <td>54</td>\n",
       "      <td>[contemporary country, country, country pop, p...</td>\n",
       "      <td>NaN</td>\n",
       "    </tr>\n",
       "    <tr>\n",
       "      <th>151120</th>\n",
       "      <td>6x9QLdzo6eBZxJ1bHsDkjg</td>\n",
       "      <td>Sisqo</td>\n",
       "      <td>806274.0</td>\n",
       "      <td>58</td>\n",
       "      <td>[contemporary r&amp;b, hip hop, hip pop, r&amp;b, urba...</td>\n",
       "      <td>NaN</td>\n",
       "    </tr>\n",
       "    <tr>\n",
       "      <th>152233</th>\n",
       "      <td>7krUxybhp1bUwFBxpOtmZb</td>\n",
       "      <td>La Kuppe</td>\n",
       "      <td>288590.0</td>\n",
       "      <td>53</td>\n",
       "      <td>[cumbia pop]</td>\n",
       "      <td>NaN</td>\n",
       "    </tr>\n",
       "    <tr>\n",
       "      <th>153396</th>\n",
       "      <td>15Dh5PvHQj909E0RgAe0aN</td>\n",
       "      <td>Nivea</td>\n",
       "      <td>645425.0</td>\n",
       "      <td>47</td>\n",
       "      <td>[atl hip hop, contemporary r&amp;b, hip pop, pop r...</td>\n",
       "      <td>NaN</td>\n",
       "    </tr>\n",
       "    <tr>\n",
       "      <th>155024</th>\n",
       "      <td>79QO0Xmn1dZhvaLicS2Yrs</td>\n",
       "      <td>The Night Game</td>\n",
       "      <td>37079.0</td>\n",
       "      <td>44</td>\n",
       "      <td>[indie poptimism, modern alternative rock]</td>\n",
       "      <td>NaN</td>\n",
       "    </tr>\n",
       "  </tbody>\n",
       "</table>\n",
       "<p>585 rows × 6 columns</p>\n",
       "</div>"
      ],
      "text/plain": [
       "                    spotify_id               name  followers  popularity  \\\n",
       "85      7wU2WGCJ8HxkekHHE2QLul              Fuego   253571.0          67   \n",
       "88      2l35CQqtYRh3d8ZIiBep4v               MKTO   995449.0          66   \n",
       "152     7h1amg0X7Q5d0D5KfuyKTg              Pyrex    29130.0          57   \n",
       "171     7EK1bQADBoqbYXnT4Cqv9w        John Denver  1646622.0          67   \n",
       "231     2vm8GdHyrJh2O2MfbQFYG0  Ingrid Michaelson   780402.0          59   \n",
       "...                        ...                ...        ...         ...   \n",
       "150515  7ahuvq1mbb4idwG1iJbSFG      Cassadee Pope   231195.0          54   \n",
       "151120  6x9QLdzo6eBZxJ1bHsDkjg              Sisqo   806274.0          58   \n",
       "152233  7krUxybhp1bUwFBxpOtmZb           La Kuppe   288590.0          53   \n",
       "153396  15Dh5PvHQj909E0RgAe0aN              Nivea   645425.0          47   \n",
       "155024  79QO0Xmn1dZhvaLicS2Yrs     The Night Game    37079.0          44   \n",
       "\n",
       "                                                   genres  \\\n",
       "85      [latin hip hop, rap dominicano, reggaeton, reg...   \n",
       "88      [dance pop, pop, pop rap, pop rock, post-teen ...   \n",
       "152                      [italian hip hop, trap italiana]   \n",
       "171     [classic country pop, folk, folk rock, mellow ...   \n",
       "231     [acoustic pop, ectofolk, lilith, neo mellow, p...   \n",
       "...                                                   ...   \n",
       "150515  [contemporary country, country, country pop, p...   \n",
       "151120  [contemporary r&b, hip hop, hip pop, r&b, urba...   \n",
       "152233                                       [cumbia pop]   \n",
       "153396  [atl hip hop, contemporary r&b, hip pop, pop r...   \n",
       "155024         [indie poptimism, modern alternative rock]   \n",
       "\n",
       "                                               chart_hits  \n",
       "85      ['ar (3)', 'bo (2)', 'cl (2)', 'co (3)', 'cr (...  \n",
       "88      ['us (3)', 'gb (2)', 'au (5)', 'at (1)', 'be (...  \n",
       "152                                            ['it (3)']  \n",
       "171     ['gb (1)', 'be (2)', 'ca (2)', 'ee (1)', 'hu (...  \n",
       "231     ['us (1)', 'at (1)', 'ca (2)', 'cz (1)', 'ee (...  \n",
       "...                                                   ...  \n",
       "150515                                                NaN  \n",
       "151120                                                NaN  \n",
       "152233                                                NaN  \n",
       "153396                                                NaN  \n",
       "155024                                                NaN  \n",
       "\n",
       "[585 rows x 6 columns]"
      ]
     },
     "execution_count": 61,
     "metadata": {},
     "output_type": "execute_result"
    }
   ],
   "source": [
    "final_df[final_df[\"name\"].isin(lyrics_supported)]"
   ]
  },
  {
   "cell_type": "code",
   "execution_count": 56,
   "metadata": {},
   "outputs": [],
   "source": [
    "with open(\"pop_df.pkl\", \"rb\") as f: \n",
    "    pop = pickle.load(f)\n",
    "with open(\"rap_df.pkl\", \"rb\") as f: \n",
    "    rap = pickle.load(f)\n",
    "lyrics_supported = []"
   ]
  },
  {
   "cell_type": "code",
   "execution_count": 57,
   "metadata": {},
   "outputs": [],
   "source": [
    "lyrics_supported += pop[~pop[\"lyrics\"].isnull()][\"name\"].tolist()\n",
    "lyrics_supported += rap[~rap[\"lyrics\"].isnull()][\"name\"].tolist()"
   ]
  },
  {
   "cell_type": "code",
   "execution_count": 25,
   "metadata": {},
   "outputs": [
    {
     "name": "stdout",
     "output_type": "stream",
     "text": [
      "535 319\n",
      "Number of nodes: 535\n",
      "Number of edges: 1983\n",
      "Network density: 0.01388217998529875\n",
      "Number of nodes: 319\n",
      "Number of edges: 2138\n",
      "Network density: 0.04215216576960233\n"
     ]
    }
   ],
   "source": [
    "pop_df, rap_df = split_artists_by_genre(final_df, [\"pop\", \"rap\"])\n",
    "\n",
    "print(len(pop_df), len(rap_df))\n",
    "G_pop = get_Graph_with_names(pop_df, edges_df)\n",
    "G_rap = get_Graph_with_names(rap_df, edges_df)"
   ]
  },
  {
   "cell_type": "code",
   "execution_count": 26,
   "metadata": {},
   "outputs": [
    {
     "name": "stdout",
     "output_type": "stream",
     "text": [
      "Community 3: 83 nodes\n",
      "Community 4: 64 nodes\n",
      "Community 7: 45 nodes\n",
      "Community 15: 45 nodes\n",
      "Community 12: 18 nodes\n",
      "Community 38: 15 nodes\n",
      "Community 20: 2 nodes\n",
      "Community 1: 1 nodes\n",
      "Community 2: 1 nodes\n",
      "Community 9: 1 nodes\n",
      "Community 10: 1 nodes\n",
      "Community 13: 1 nodes\n",
      "Community 14: 1 nodes\n",
      "Community 16: 1 nodes\n",
      "Community 17: 1 nodes\n",
      "Community 18: 1 nodes\n",
      "Community 19: 1 nodes\n",
      "Community 22: 1 nodes\n",
      "Community 24: 1 nodes\n",
      "Community 25: 1 nodes\n",
      "Community 26: 1 nodes\n",
      "Community 27: 1 nodes\n",
      "Community 28: 1 nodes\n",
      "Community 29: 1 nodes\n",
      "Community 30: 1 nodes\n",
      "Community 32: 1 nodes\n",
      "Community 33: 1 nodes\n",
      "Community 34: 1 nodes\n",
      "Community 35: 1 nodes\n",
      "Community 37: 1 nodes\n",
      "Community 39: 1 nodes\n",
      "Community 41: 1 nodes\n",
      "Community 42: 1 nodes\n",
      "Community 43: 1 nodes\n",
      "Community 44: 1 nodes\n",
      "Community 45: 1 nodes\n",
      "Community 46: 1 nodes\n",
      "Community 47: 1 nodes\n",
      "Community 48: 1 nodes\n",
      "Community 49: 1 nodes\n",
      "Community 50: 1 nodes\n",
      "Community 51: 1 nodes\n",
      "Community 52: 1 nodes\n",
      "Community 53: 1 nodes\n",
      "Community 36: 1 nodes\n",
      "Community 5: 1 nodes\n",
      "Community 6: 1 nodes\n",
      "Community 8: 1 nodes\n",
      "Community 40: 1 nodes\n",
      "Community 11: 1 nodes\n",
      "Community 21: 1 nodes\n",
      "Community 23: 1 nodes\n",
      "Community 31: 1 nodes\n",
      "Community 0: 1 nodes\n"
     ]
    }
   ],
   "source": [
    "communities = apply_louvain(G_rap)\n",
    "largest_community_id = communities[0][0]\n",
    "\n",
    "G_largest_rap_community = get_community_subgraph(G_rap, largest_community_id)\n",
    "G_largest_rap_community_splitted = get_combined_louvain_splitted_graph(G_largest_rap_community)"
   ]
  },
  {
   "cell_type": "code",
   "execution_count": 27,
   "metadata": {},
   "outputs": [
    {
     "name": "stdout",
     "output_type": "stream",
     "text": [
      "tmpgraph.json\n"
     ]
    },
    {
     "name": "stderr",
     "output_type": "stream",
     "text": [
      "/Library/Frameworks/Python.framework/Versions/3.12/lib/python3.12/site-packages/networkx/readwrite/json_graph/node_link.py:142: FutureWarning: \n",
      "The default value will be `edges=\"edges\" in NetworkX 3.6.\n",
      "\n",
      "To make this warning go away, explicitly set the edges kwarg, e.g.:\n",
      "\n",
      "  nx.node_link_data(G, edges=\"links\") to preserve current behavior, or\n",
      "  nx.node_link_data(G, edges=\"edges\") for forward compatibility.\n",
      "  warnings.warn(\n"
     ]
    },
    {
     "ename": "TypeError",
     "evalue": "'NoneType' object is not subscriptable",
     "output_type": "error",
     "traceback": [
      "\u001b[0;31m---------------------------------------------------------------------------\u001b[0m",
      "\u001b[0;31mTypeError\u001b[0m                                 Traceback (most recent call last)",
      "Cell \u001b[0;32mIn[27], line 5\u001b[0m\n\u001b[1;32m      1\u001b[0m communities \u001b[38;5;241m=\u001b[39m community_louvain\u001b[38;5;241m.\u001b[39mbest_partition(G_rap)\n\u001b[1;32m      3\u001b[0m colors \u001b[38;5;241m=\u001b[39m [\u001b[38;5;124m'\u001b[39m\u001b[38;5;124m#e57468\u001b[39m\u001b[38;5;124m'\u001b[39m, \u001b[38;5;124m'\u001b[39m\u001b[38;5;124m#68e574\u001b[39m\u001b[38;5;124m'\u001b[39m, \u001b[38;5;124m'\u001b[39m\u001b[38;5;124m#7468e5\u001b[39m\u001b[38;5;124m'\u001b[39m, \u001b[38;5;124m'\u001b[39m\u001b[38;5;124m#e5d068\u001b[39m\u001b[38;5;124m'\u001b[39m, \u001b[38;5;124m'\u001b[39m\u001b[38;5;124m#68d0e5\u001b[39m\u001b[38;5;124m'\u001b[39m]\n\u001b[0;32m----> 5\u001b[0m \u001b[43mnetwulf_plot_communities\u001b[49m\u001b[43m(\u001b[49m\u001b[43mG_rap\u001b[49m\u001b[43m,\u001b[49m\u001b[43m \u001b[49m\u001b[43mcommunities\u001b[49m\u001b[43m,\u001b[49m\u001b[43m \u001b[49m\u001b[43mport\u001b[49m\u001b[38;5;241;43m=\u001b[39;49m\u001b[38;5;241;43m9981\u001b[39;49m\u001b[43m,\u001b[49m\u001b[43m \u001b[49m\u001b[43mcolor_palette\u001b[49m\u001b[38;5;241;43m=\u001b[39;49m\u001b[43mcolors\u001b[49m\u001b[43m,\u001b[49m\u001b[43m \u001b[49m\u001b[43mpath\u001b[49m\u001b[38;5;241;43m=\u001b[39;49m\u001b[38;5;124;43m\"\u001b[39;49m\u001b[38;5;124;43mPop_network.pdf\u001b[39;49m\u001b[38;5;124;43m\"\u001b[39;49m\u001b[43m)\u001b[49m\n",
      "File \u001b[0;32m~/Documents/Dokumenter/DTU/4. semester/Computational social science/02467-Project-assignment/Netwulf_plot_functions.py:68\u001b[0m, in \u001b[0;36mnetwulf_plot_communities\u001b[0;34m(G, communities, port, color_palette, path, figsize)\u001b[0m\n\u001b[1;32m     65\u001b[0m \u001b[38;5;66;03m# Visualize without printing\u001b[39;00m\n\u001b[1;32m     66\u001b[0m network, _ \u001b[38;5;241m=\u001b[39m nw\u001b[38;5;241m.\u001b[39mvisualize(G_copy, plot_in_cell_below\u001b[38;5;241m=\u001b[39m\u001b[38;5;28;01mFalse\u001b[39;00m, config\u001b[38;5;241m=\u001b[39mconfig, port\u001b[38;5;241m=\u001b[39mport)\n\u001b[0;32m---> 68\u001b[0m \u001b[38;5;28;01mfor\u001b[39;00m node_data \u001b[38;5;129;01min\u001b[39;00m \u001b[43mnetwork\u001b[49m\u001b[43m[\u001b[49m\u001b[38;5;124;43m'\u001b[39;49m\u001b[38;5;124;43mnodes\u001b[39;49m\u001b[38;5;124;43m'\u001b[39;49m\u001b[43m]\u001b[49m:\n\u001b[1;32m     69\u001b[0m     node_id \u001b[38;5;241m=\u001b[39m node_data[\u001b[38;5;124m'\u001b[39m\u001b[38;5;124mid\u001b[39m\u001b[38;5;124m'\u001b[39m]\n\u001b[1;32m     70\u001b[0m     \u001b[38;5;28;01mif\u001b[39;00m node_id \u001b[38;5;129;01min\u001b[39;00m communities:\n",
      "\u001b[0;31mTypeError\u001b[0m: 'NoneType' object is not subscriptable"
     ]
    }
   ],
   "source": [
    "communities = community_louvain.best_partition(G_rap)\n",
    "\n",
    "colors = ['#e57468', '#68e574', '#7468e5', '#e5d068', '#68d0e5']\n",
    "\n",
    "netwulf_plot_communities(G_rap, communities, port=9981, color_palette=colors, path=\"Pop_network.pdf\")"
   ]
  }
 ],
 "metadata": {
  "kernelspec": {
   "display_name": "Python 3",
   "language": "python",
   "name": "python3"
  },
  "language_info": {
   "codemirror_mode": {
    "name": "ipython",
    "version": 3
   },
   "file_extension": ".py",
   "mimetype": "text/x-python",
   "name": "python",
   "nbconvert_exporter": "python",
   "pygments_lexer": "ipython3",
   "version": "3.12.8"
  }
 },
 "nbformat": 4,
 "nbformat_minor": 2
}
