{
 "cells": [
  {
   "cell_type": "code",
   "execution_count": 13,
   "id": "821cf577",
   "metadata": {},
   "outputs": [],
   "source": [
    "import lyricsgenius\n",
    "token = \"SQ5PQucPjwa_LEDaobBQyxewdh80ZB-KhaBau73yASMRNIvnijWprQSi6ZDnUb7N\"\n",
    "genius = lyricsgenius.Genius(token)"
   ]
  },
  {
   "cell_type": "code",
   "execution_count": 2,
   "id": "4c067692",
   "metadata": {},
   "outputs": [
    {
     "name": "stdout",
     "output_type": "stream",
     "text": [
      "Searching for songs by Andy Shauf...\n",
      "\n",
      "Song 1: \"Alexander All Alone\"\n",
      "Song 2: \"All Of My Love\"\n",
      "Song 3: \"All the Same\"\n",
      "\n",
      "Reached user-specified song limit (3).\n",
      "Done. Found 3 songs.\n",
      "[Song(id, artist, ...), Song(id, artist, ...), Song(id, artist, ...)]\n"
     ]
    }
   ],
   "source": [
    "artist = genius.search_artist(\"Andy Shauf\", max_songs=3, sort=\"title\")\n",
    "print(artist.songs)"
   ]
  },
  {
   "cell_type": "code",
   "execution_count": null,
   "id": "e0645912",
   "metadata": {},
   "outputs": [
    {
     "name": "stdout",
     "output_type": "stream",
     "text": [
      "Searching for \"Mit Ord\"...\n",
      "Done.\n"
     ]
    }
   ],
   "source": [
    "song = genius.search_song(\"Mit Ord\")"
   ]
  },
  {
   "cell_type": "code",
   "execution_count": 14,
   "id": "88b861b5",
   "metadata": {},
   "outputs": [
    {
     "name": "stdout",
     "output_type": "stream",
     "text": [
      "Searching for songs by Kendrick Lamar...\n",
      "\n",
      "Song 1: \"Not Like Us\"\n",
      "Song 2: \"HUMBLE.\"\n",
      "Song 3: \"euphoria\"\n",
      "\n",
      "Reached user-specified song limit (3).\n",
      "Done. Found 3 songs.\n",
      "Not Like Us:\n",
      "1607 ContributorsTranslationsTürkçePortuguêsРусскийEspañolDeutschPolskiRomânăFrançaisالعربيةहिन्दीNo...\n",
      "\n",
      "HUMBLE.:\n",
      "1043 ContributorsTranslationsTürkçeEspañolРусскийPortuguêsPolskiAzərbaycanca / آذربايجانDeutschالعرب...\n",
      "\n",
      "euphoria:\n",
      "1509 ContributorsTranslationsPortuguêsTürkçeEspañolРусскийPolskiไทย / Phasa ThaiRomânăDeutschFrançai...\n",
      "\n"
     ]
    }
   ],
   "source": [
    "artist = genius.search_artist(\"Kendrick Lamar\", max_songs=3, sort=\"popularity\")\n",
    "\n",
    "for song in artist.songs:\n",
    "    print(f\"{song.title}:\\n{song.lyrics[:100]}...\\n\")"
   ]
  },
  {
   "cell_type": "code",
   "execution_count": 15,
   "id": "66b70e15",
   "metadata": {},
   "outputs": [
    {
     "data": {
      "text/plain": [
       "'1509 ContributorsTranslationsPortuguêsTürkçeEspañolРусскийPolskiไทย / Phasa ThaiRomânăDeutschFrançaisItalianoTiếng Việteuphoria Lyrics[Part I]\\n\\n[Intro]\\n\\u200beurt s\\'em tuoba yas yeht gnihtyrevE\\nEuphoria\\n\\n[Verse]\\nThem super powers gettin\\' neutralized, I can only watch in silence\\nThe famous actor we once knew is lookin\\' paranoid and now is spiralin\\'\\nYou\\'re movin\\' just like a degenerate, every antic is feelin\\' distasteful\\nI calculate you\\'re not as calculated, I can even predict your angle\\nFabricatin\\' stories on the family front \\'cause you heard Mr. Morale\\nA pathetic master manipulator, I can smell the tales on you now\\nYou\\'rе not a rap artist, you a scam artist with the hopes of being accеpted\\nTommy Hilfiger stood out, but FUBU never had been your collection\\nI make music that electrify \\'em, you make music that pacify \\'em\\nI can double down on that line, but spare you this time, that\\'s random acts of kindness\\nKnow you a master manipulator and habitual liar too\\nBut don\\'t tell no lie about me and I won\\'t tell truths \\'bout you\\n[Part II]\\n[Intro]\\nShoo, shoo, shoo\\nShoo, shoo, shoo\\nBee, bee, bee, bee, bee, bee\\n\\n\\n[Verse]\\nYeah, I\\'m out the way, yeah, I\\'m low, okay\\nYeah, the island right here\\'s remote, okay\\nI ain\\'t thinkin\\' about no reaper, nigga, I\\'m reapin\\' what I sow, okay\\nGot a Benjamin and a Jackson all in my house like I\\'m Joe, okay\\nHellcat, made his homeboys and them type sell they soul, okay\\nEverybody wanna be demon \\'til they get chipped by a throwaway\\nAnd I might do a show a day, once a lame, always a lame\\nOh, you thought the money, the power or fame would make you go away?\\nHave you ever played have-you-ever? Okay, nigga, let\\'s play\\nHave you ever walked your enemy down like with a poker face?\\nHave you ever paid five hundred thou\\' like to an open case?\\nWell, I have, and I failed at both, but I came out straight\\nI hate when a rapper talk about guns, then somebody die, they turn into nuns\\nThen hop online like \"Pray for my city,\" he fakin\\' for likes and digital hugs\\nHis daddy a killer, he wanna be junior, they must\\'ve forgot the shit that they done\\nDementia must run in his family, but let it get shaky\\nI\\'ll park his son\\nThe very first time I shot me a Drac\\', the homie had told me to aim it this way\\nI didn\\'t point down enough, today, I\\'ll show you I learned from those mistakes\\nSomebody had told me that you got a ring, on God, I\\'m ready to double the wage\\nI\\'d rather do that than let a Canadian nigga make Pac turn in his grave\\nCutthroat business, you got shit twisted\\nWhat is it? The braids?\\nI hurt your feelings? You don\\'t wanna work with me no more? Okay\\nIt\\'s three GOATs left, and I seen two of them kissin\\' and huggin\\' on stage\\nI love \\'em to death, and in eight bars, I\\'ll explain that phrase, huh\\nIt\\'s nothin\\' nobody can tell me, huh\\nI don\\'t wanna talk on no celly, huh\\nYou know I got language barriers, huh\\nIt\\'s no accent you can sell me, huh\\nYeah, Cole and Aubrey know I\\'m a selfish nigga, the crown is heavy, huh\\nI pray they my real friends, if not, I\\'m YNW Melly\\nI don\\'t like you poppin\\' shit at Pharrell, for him, I inherit the beef\\nYeah, fuck all that pushin\\' P, let me see you push a T\\nYou better off spinnin\\' again on him, you think about pushin\\' me\\nHe\\'s Terrence Thornton, I\\'m Terence Crawford, yeah, I\\'m whoopin\\' feet\\nWe ain\\'t gotta get personal, this a friendly fade, you should keep it that way\\nI know some shit about niggas that make Gunna Wunna look like a saint\\nThis ain\\'t been about critics, not about gimmicks, not about who the greatest\\nIt\\'s always been about love and hate, now let me say I\\'m the biggest hater\\nI hate the way that you walk, the way that you talk, I hate the way that you dress\\nI hate the way that you sneak diss, if I catch flight, it\\'s gon\\' be direct\\nWe hate the bitches you fuck \\'cause they confuse themself with real women\\nAnd notice, I said \"we,\" it\\'s not just me, I\\'m what the culture feelin\\'\\nHow many more fairytale stories \\'bout your life \\'til we had enough?\\nHow many more Black features \\'til you finally feel that you\\'re Black enough?\\nI like Drake with the melodies, I don\\'t like Drake when he act tough\\nYou gon\\' make a nigga bring back Puff, let me see if Chubbs really crash somethin\\'\\nYeah, my first one like my last one, it\\'s a classic, you don\\'t have one\\nLet your core audience stomach that, then tell \\'em where you get your abs from\\nV12, it\\'s a fast one, baow-baow-baow, last one\\nHeadshot for the year, you better walk around like Daft Punk\\n\\n\\n[Part III]\\n\\n[Verse]\\nRemember?\\nAyy, Top Dawg, who the fuck they think they playin\\' with?\\nExtortion my middle name as soon as you jump off of that plane, bitch\\nI\\'m allergic to the lame shit, only you like bein\\' famous\\nYachty can\\'t give you no swag neither, I don\\'t give a fuck \\'bout who you hang with\\nI hate the way that you walk, the way that you talk, I hate the way that you dress\\nSurprised you wanted that feature request, you know that we got some shit to address\\nI even hate when you say the word \"nigga,\" but that\\'s just me, I guess\\nSome shit just cringeworthy, it ain\\'t even gotta be deep, I guess\\nStill love when you see success, everything with me is blessed\\nKeep makin\\' me dance, wavin\\' my hand, and it won\\'t be no threat\\nI\\'m knowin\\' they call you The Boy, but where is a man? \\'Cause I ain\\'t seen him yet\\nMatter fact, I ain\\'t even bleed him yet, can I bleed him? (Bet)\\nWhen I see you stand by Sexyy Red, I believe you see two bad bitches\\nI believe you don\\'t like women, it\\'s real competition, you might pop ass with \\'em\\nLet\\'s speak on percentage, show me your splits, I\\'ll make sure I double back with ya\\nYou were signed to a nigga that\\'s signed to a nigga that said he was signed to that nigga\\nTry cease and desist on the \"Like That\" record?\\nHo, what? You ain\\'t like that record?\\n\"Back To Back,\" I like that record\\nI\\'ma get back to that, for the record\\nWhy would I call around tryna get dirt on niggas? Y\\'all think all my life is rap?\\nThat\\'s ho shit, I got a son to raise, but I can see you don\\'t know nothin\\' \\'bout that\\nWakin\\' him up, know nothin\\' \\'bout that\\nThen tell him to pray, know nothin\\' \\'bout that\\nThen givin\\' him tools to walk through life like day by day, know nothin\\' \\'bout that\\nTeachin\\' him morals, integrity, discipline, listen, man, you don\\'t know nothin\\' \\'bout that\\nSpeakin\\' the truth and consider what God\\'s considerin\\', you don\\'t know nothin\\' \\'bout that\\nAin\\'t twenty-v-one, it\\'s one-v-twenty if I gotta smack niggas that write with you\\nYeah, bring \\'em out too, I\\'ll clean \\'em out too, tell BEAM that he better stay right with you\\nAm I battlin\\' ghost or AI?\\nNigga feelin\\' like Joe Hale Osteen\\nFunny, he was in a film called A.I\\nAnd my sixth sense tellin\\' me to off him\\nI\\'ma blick niggas all in they coffin\\nYeah, OV-ho niggas is dick riders\\nTell \\'em run to America to imitate heritage, they can\\'t imitate this violence\\nWhat I learned is niggas don\\'t like the West Coast, and I\\'m fine with it, I\\'ll push the line with it\\nPick a nigga off one at a time with it\\nWe can be on a three-hour time difference\\nDon\\'t speak on the family, crodie\\nIt can get deep in the family, crodie\\nTalk about me and my family, crodie?\\nSomeone gon\\' bleed in your family, crodie\\nI be at New Ho King eatin\\' fried rice with a dip sauce and a blammy, crodie\\nTell me you\\'re cheesin\\', fam\\nWe can do this right now on the camera, crodie\\nAyy, fuck y\\'all niggas, I don\\'t trust y\\'all niggas\\nI wave one finger and thump y\\'all niggas like mmm\\nField goal, punt y\\'all niggas, they punk y\\'all niggas, nobody never took my food\\nWhoever that\\'s fuckin\\' with him, fuck you niggas, and fuck the industry too\\nIf you take it there, I\\'m takin\\' it further\\nPsst, that\\'s something you don\\'t wanna do\\n\\n\\n[Outro]\\nOoh\\nWe don\\'t wanna hear you say \"nigga\" no more\\nWe don\\'t wanna hear you say \"nigga\" no more\\nStop'"
      ]
     },
     "execution_count": 15,
     "metadata": {},
     "output_type": "execute_result"
    }
   ],
   "source": [
    "song.lyrics"
   ]
  }
 ],
 "metadata": {
  "kernelspec": {
   "display_name": "Python 3",
   "language": "python",
   "name": "python3"
  },
  "language_info": {
   "codemirror_mode": {
    "name": "ipython",
    "version": 3
   },
   "file_extension": ".py",
   "mimetype": "text/x-python",
   "name": "python",
   "nbconvert_exporter": "python",
   "pygments_lexer": "ipython3",
   "version": "3.12.8"
  }
 },
 "nbformat": 4,
 "nbformat_minor": 5
}
