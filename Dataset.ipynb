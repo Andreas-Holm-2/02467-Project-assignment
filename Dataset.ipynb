{
 "cells": [
  {
   "cell_type": "code",
   "execution_count": 68,
   "id": "c06642a0",
   "metadata": {},
   "outputs": [],
   "source": [
    "import pandas as pd\n",
    "import matplotlib.pyplot as plt"
   ]
  },
  {
   "cell_type": "markdown",
   "id": "c0c3ae2a",
   "metadata": {},
   "source": [
    "https://www.kaggle.com/datasets/jfreyberg/spotify-artist-feature-collaboration-network?resource=download&fbclid=IwZXh0bgNhZW0CMTEAAR5jxk4FClm9GBFvCklV4Ga5SRwON3ajfqLdOMjFqN1uereEEduffCtjEbkjJg_aem_YUf8t7fIjwbCWiHS_vrVcg"
   ]
  },
  {
   "cell_type": "code",
   "execution_count": 55,
   "id": "faa12581",
   "metadata": {},
   "outputs": [],
   "source": [
    "nodes_df = pd.read_csv('nodes.csv')"
   ]
  },
  {
   "cell_type": "code",
   "execution_count": 56,
   "id": "ba931a62",
   "metadata": {},
   "outputs": [],
   "source": [
    "edges_df = pd.read_csv('edges.csv')"
   ]
  },
  {
   "cell_type": "code",
   "execution_count": 57,
   "id": "22b00bf3",
   "metadata": {},
   "outputs": [
    {
     "data": {
      "application/vnd.microsoft.datawrangler.viewer.v0+json": {
       "columns": [
        {
         "name": "index",
         "rawType": "int64",
         "type": "integer"
        },
        {
         "name": "spotify_id",
         "rawType": "object",
         "type": "string"
        },
        {
         "name": "name",
         "rawType": "object",
         "type": "unknown"
        },
        {
         "name": "followers",
         "rawType": "float64",
         "type": "float"
        },
        {
         "name": "popularity",
         "rawType": "int64",
         "type": "integer"
        },
        {
         "name": "genres",
         "rawType": "object",
         "type": "string"
        },
        {
         "name": "chart_hits",
         "rawType": "object",
         "type": "unknown"
        }
       ],
       "conversionMethod": "pd.DataFrame",
       "ref": "d4169715-7172-44e6-bc57-a7808223b016",
       "rows": [
        [
         "0",
         "48WvrUGoijadXXCsGocwM4",
         "Byklubben",
         "1738.0",
         "24",
         "['nordic house', 'russelater']",
         "['no (3)']"
        ],
        [
         "1",
         "4lDiJcOJ2GLCK6p9q5BgfK",
         "Kontra K",
         "1999676.0",
         "72",
         "['christlicher rap', 'german hip hop']",
         "['at (44)', 'de (111)', 'lu (22)', 'ch (31)', 'vn (1)']"
        ],
        [
         "2",
         "652XIvIBNGg3C0KIGEJWit",
         "Maxim",
         "34596.0",
         "36",
         "[]",
         "['de (1)']"
        ],
        [
         "3",
         "3dXC1YPbnQPsfHPVkm1ipj",
         "Christopher Martin",
         "249233.0",
         "52",
         "['dancehall', 'lovers rock', 'modern reggae', 'reggae fusion']",
         "['at (1)', 'de (1)']"
        ],
        [
         "4",
         "74terC9ol9zMo8rfzhSOiG",
         "Jakob Hellman",
         "21193.0",
         "39",
         "['classic swedish pop', 'norrbotten indie', 'swedish pop']",
         "['se (6)']"
        ],
        [
         "5",
         "0FQMb3mVrAKlyU4H5mQOJh",
         "Madh",
         "26677.0",
         "19",
         "[]",
         "['it (2)']"
        ],
        [
         "6",
         "71BhXa24Zf5zcikUb00l2N",
         "Juice",
         "11312.0",
         "37",
         "['swedish drill', 'swedish hip hop', 'swedish trap', 'swedish trap pop']",
         "['se (4)']"
        ],
        [
         "7",
         "3TG1RXLaEhHz5SIPMWahit",
         "Nehuda",
         "36252.0",
         "31",
         "['francoton']",
         "['fr (1)']"
        ],
        [
         "8",
         "7MFvm8pwjLdmVBZddGNiQH",
         "VovaZiLvova",
         "14619.0",
         "43",
         "['ukrainian hip hop', 'ukrainian pop', 'ukrainian rock']",
         "['ua (1)']"
        ],
        [
         "9",
         "5I82NM6jN4Y267iHwVeNR9",
         "Nata Record",
         "188.0",
         "12",
         "[]",
         "['do (1)']"
        ],
        [
         "10",
         "5OkJ74jazRprW3kCTjfgOL",
         "Yomi",
         "7246.0",
         "30",
         "['norwegian pop rap']",
         "['no (2)']"
        ],
        [
         "11",
         "6swIRY9NcGlW0PwO5KlqKV",
         "Kauniit & Uhkarohkeat",
         "798.0",
         "9",
         "['suomi rock']",
         "['fi (2)']"
        ],
        [
         "12",
         "5qBZETtyzfYnXOobDXbmcD",
         "Danny Elfman",
         "327256.0",
         "63",
         "['orchestral soundtrack', 'soundtrack']",
         "['pl (2)', 'pt (2)', 'tw (1)']"
        ],
        [
         "13",
         "0AjnB78SikKKhqYoqFIOXn",
         "Attractions",
         "11174.0",
         "21",
         "['japanese dance pop']",
         "['jp (1)']"
        ],
        [
         "14",
         "5RYLofQHxZcrEl9Bl23MCS",
         "MaRina",
         "6408.0",
         "29",
         "[]",
         "['pl (1)']"
        ],
        [
         "15",
         "3xs0LEzcPXtgNfMNcHzLIP",
         "Rockwell",
         "40344.0",
         "58",
         "[]",
         "['us (1)', 'gb (1)', 'at (1)', 'be (1)', 'ca (1)', 'ee (1)', 'de (1)', 'is (1)', 'ie (1)', 'lv (1)', 'lt (1)', 'sk (1)']"
        ],
        [
         "16",
         "4kYtSSCtizbVfZkgAj4Xbe",
         "Cosmos Insania",
         "17.0",
         "0",
         "[]",
         "['hn (3)']"
        ],
        [
         "17",
         "2tGETO39QXKpmeQMSzr5I6",
         "Pálmi Gunnarsson",
         "3207.0",
         "27",
         "['classic icelandic pop', 'icelandic pop', 'icelandic rock']",
         "['is (4)']"
        ],
        [
         "18",
         "5mjhFqCEMhIwO4ZOYlycHH",
         "GeeSixFive",
         "517.0",
         "0",
         "[]",
         "['za (1)']"
        ],
        [
         "19",
         "6cd9X2t4HN8zjoxOblaDTz",
         "Suur Papa",
         "6752.0",
         "29",
         "['estonian hip hop', 'estonian pop']",
         "['ee (3)']"
        ],
        [
         "20",
         "2NUz5P42WqkxilbI8ocN76",
         "Vybz Kartel",
         "1026598.0",
         "63",
         "['dancehall', 'jamaican dancehall', 'reggae fusion']",
         "['cr (3)', 'pa (1)']"
        ],
        [
         "21",
         "3PGwQavDRylE3cEDRRISYV",
         "CAMO",
         "394.0",
         "10",
         "[]",
         "['dk (2)']"
        ],
        [
         "22",
         "4Lm0pUvmisUHMdoky5ch2I",
         "Apocalyptica",
         "864846.0",
         "60",
         "['alternative metal', 'bow pop', 'cello', 'finnish metal', 'nu metal']",
         "['fi (2)']"
        ],
        [
         "23",
         "6M2wZ9GZgrQXHCFfjv46we",
         "Dua Lipa",
         "36163788.0",
         "88",
         "['dance pop', 'pop', 'uk pop']",
         "['us (17)', 'gb (25)', 'ar (18)', 'au (20)', 'at (14)', 'be (23)', 'bo (10)', 'br (18)', 'bg (24)', 'ca (19)', 'cl (16)', 'co (18)', 'cr (18)', 'cy (21)', 'cz (17)', 'dk (17)', 'do (9)', 'ec (9)', 'eg (13)', 'sv (19)', 'ee (24)', 'fi (22)', 'fr (12)', 'de (14)', 'gr (22)', 'gt (12)', 'hn (18)', 'hk (19)', 'hu (24)', 'is (12)', 'in (6)', 'id (13)', 'ie (24)', 'il (12)', 'it (11)', 'jp (9)', 'lv (18)', 'lt (24)', 'lu (20)', 'my (16)', 'mt (20)', 'mx (18)', 'ma (6)', 'nl (20)', 'nz (19)', 'ni (18)', 'no (16)', 'pa (15)', 'py (9)', 'pe (16)', 'ph (18)', 'pl (23)', 'pt (21)', 'ro (18)', 'ru (6)', 'sa (10)', 'sg (21)', 'sk (23)', 'za (5)', 'kr (6)', 'es (18)', 'se (14)', 'ch (14)', 'tw (18)', 'th (11)', 'tr (12)', 'ua (6)', 'ae (15)', 'uy (15)', 'vn (19)']"
        ],
        [
         "24",
         "3W78vKR2pmGmYbtNDnN9kl",
         "Akky",
         "35.0",
         "1",
         "[]",
         "['ca (1)', 'in (1)']"
        ],
        [
         "25",
         "0SIXZXJCAhNU8sxK0qm7hn",
         "Stefanie Sun",
         "561300.0",
         "57",
         "['c-pop', 'mandopop', 'singaporean mandopop', 'singaporean pop', 'singaporean singer-songwriter']",
         "['hk (2)', 'sg (3)', 'tw (36)']"
        ],
        [
         "26",
         "7jXoGtR69J2iYCefc58MZX",
         "Twins",
         "92440.0",
         "45",
         "['c-pop', 'cantopop']",
         "['hk (3)']"
        ],
        [
         "27",
         "2sjnyyL9NXijL3Fr2eLikf",
         "Aspova",
         "339292.0",
         "57",
         "['turkish hip hop', 'turkish trap pop']",
         "['tr (12)']"
        ],
        [
         "28",
         "2bPh6UXbS7wZ7tyN35kFEG",
         "Artistic Raw",
         "7088.0",
         "40",
         "['dutch house']",
         "['nl (1)']"
        ],
        [
         "29",
         "7yaaxrkMOWJZXpIYHkppDH",
         "Angela Ken",
         "30050.0",
         "45",
         "['pinoy singer-songwriter']",
         "['ph (1)']"
        ],
        [
         "30",
         "63vwPO1QheUOil1fkQsv0u",
         "Labanoon",
         "498739.0",
         "44",
         "['thai folk rock', 'thai rock']",
         "['th (2)']"
        ],
        [
         "31",
         "4JNo6Q5KdcRf1vtSX9mB0S",
         "João Gomes",
         "4122782.0",
         "74",
         "['arrocha']",
         "['br (16)', 'py (1)', 'pt (1)']"
        ],
        [
         "32",
         "7pnSkMU0hGGIay6tPvbsCo",
         "Khea",
         "296.0",
         "0",
         "[]",
         "['ar (1)', 'bo (1)', 'cl (1)', 'py (1)', 'uy (1)']"
        ],
        [
         "33",
         "68fwnXPTQaiMV7rKvSkTYQ",
         "Daniela Reyes",
         "2348.0",
         "25",
         "['norwegian contemporary jazz', 'norwegian indie']",
         "['no (1)']"
        ],
        [
         "34",
         "5Matrg5du62bXwer29cU5T",
         "Benny The Butcher",
         "266547.0",
         "64",
         "['boom bap', 'buffalo hip hop', 'hip hop', 'rap', 'upstate ny rap']",
         "['us (1)', 'ca (1)', 'za (1)']"
        ],
        [
         "35",
         "0qZ24TkLCHoE3ajCzGItJ1",
         "Sharmoofers",
         "453284.0",
         "37",
         "['arab alternative', 'egyptian alternative', 'egyptian pop']",
         "['eg (8)']"
        ],
        [
         "36",
         "4e0nWw2r4BoQSKPQ2zpU13",
         "Ray Dalton",
         "39139.0",
         "71",
         "['uk pop']",
         "['at (1)', 'be (1)', 'fr (1)', 'de (1)', 'lu (1)', 'pl (1)', 'sk (1)', 'ch (1)']"
        ],
        [
         "37",
         "1EUmQM6xgUQLUkJVcvSdey",
         "Orange & Lemons",
         "774079.0",
         "56",
         "['opm', 'pinoy indie', 'pinoy rock']",
         "['ph (2)']"
        ],
        [
         "38",
         "0H1pP8C4zaVSilRjiRa2Wy",
         "D1NO",
         "19269.0",
         "48",
         "['german hip hop']",
         "['de (1)']"
        ],
        [
         "39",
         "2HmmA3GhP0xsbRUiDllJUn",
         "Pep & Rash",
         "77599.0",
         "39",
         "['dutch edm', 'electro house', 'future house', 'house']",
         "['gb (1)', 'ar (1)', 'ie (1)', 'mx (1)', 'nl (2)', 'tw (1)']"
        ],
        [
         "40",
         "2xIWjLEjEkPdclYsGGMTpK",
         "B10",
         "80926.0",
         "45",
         "['drill espanol']",
         "['es (1)']"
        ],
        [
         "41",
         "4RA4PC3WHM9OHZLExirTcU",
         "APO Hiking Society",
         "619169.0",
         "56",
         "['classic opm', 'opm']",
         "['ph (2)']"
        ],
        [
         "42",
         "2AZOALDIBORfbzKTuliwdJ",
         "Cristian Castro",
         "2620684.0",
         "69",
         "['latin arena pop', 'latin pop']",
         "['ar (1)', 'mx (1)']"
        ],
        [
         "43",
         "7IpcJM0UZeU4b2SV9YRCqx",
         "Alika",
         "28254.0",
         "0",
         "[]",
         "['id (1)']"
        ],
        [
         "44",
         "3V79CTgRnsDdJSTqKitROv",
         "Nobuo Uematsu",
         "264682.0",
         "61",
         "['anime score', 'chiptune', 'final fantasy', 'japanese classical', 'japanese vgm', 'orchestral soundtrack', 'video game music']",
         "['sa (1)']"
        ],
        [
         "45",
         "7jZMxhsB8djyIbYmoiJSTs",
         "Kiana Ledé",
         "1351452.0",
         "64",
         "['chill r&b', 'dance pop', 'pop', 'pop r&b', 'r&b', 'rap', 'urban contemporary']",
         "['cy (1)', 'id (1)', 'lt (1)', 'mt (1)', 'no (1)']"
        ],
        [
         "46",
         "15NoI73ol1fVF11li1RKMB",
         "Nick Lopez",
         "3252.0",
         "31",
         "[]",
         "['lu (1)']"
        ],
        [
         "47",
         "6HHje5tfmzWK8PsSaoJ9Xp",
         "SAMSONS",
         "887275.0",
         "57",
         "['indonesian pop', 'indonesian pop rock']",
         "['id (3)', 'my (1)']"
        ],
        [
         "48",
         "6pUYaWjHnY2HdN6RC6ELml",
         "Total Ape",
         "3330.0",
         "34",
         "[]",
         "['se (1)']"
        ],
        [
         "49",
         "2L6UrPU37b4pCVWqURjkEX",
         "DON EAZY",
         "1210.0",
         "28",
         "['danish hip hop']",
         "['dk (1)']"
        ]
       ],
       "shape": {
        "columns": 6,
        "rows": 156422
       }
      },
      "text/html": [
       "<div>\n",
       "<style scoped>\n",
       "    .dataframe tbody tr th:only-of-type {\n",
       "        vertical-align: middle;\n",
       "    }\n",
       "\n",
       "    .dataframe tbody tr th {\n",
       "        vertical-align: top;\n",
       "    }\n",
       "\n",
       "    .dataframe thead th {\n",
       "        text-align: right;\n",
       "    }\n",
       "</style>\n",
       "<table border=\"1\" class=\"dataframe\">\n",
       "  <thead>\n",
       "    <tr style=\"text-align: right;\">\n",
       "      <th></th>\n",
       "      <th>spotify_id</th>\n",
       "      <th>name</th>\n",
       "      <th>followers</th>\n",
       "      <th>popularity</th>\n",
       "      <th>genres</th>\n",
       "      <th>chart_hits</th>\n",
       "    </tr>\n",
       "  </thead>\n",
       "  <tbody>\n",
       "    <tr>\n",
       "      <th>0</th>\n",
       "      <td>48WvrUGoijadXXCsGocwM4</td>\n",
       "      <td>Byklubben</td>\n",
       "      <td>1738.0</td>\n",
       "      <td>24</td>\n",
       "      <td>['nordic house', 'russelater']</td>\n",
       "      <td>['no (3)']</td>\n",
       "    </tr>\n",
       "    <tr>\n",
       "      <th>1</th>\n",
       "      <td>4lDiJcOJ2GLCK6p9q5BgfK</td>\n",
       "      <td>Kontra K</td>\n",
       "      <td>1999676.0</td>\n",
       "      <td>72</td>\n",
       "      <td>['christlicher rap', 'german hip hop']</td>\n",
       "      <td>['at (44)', 'de (111)', 'lu (22)', 'ch (31)', ...</td>\n",
       "    </tr>\n",
       "    <tr>\n",
       "      <th>2</th>\n",
       "      <td>652XIvIBNGg3C0KIGEJWit</td>\n",
       "      <td>Maxim</td>\n",
       "      <td>34596.0</td>\n",
       "      <td>36</td>\n",
       "      <td>[]</td>\n",
       "      <td>['de (1)']</td>\n",
       "    </tr>\n",
       "    <tr>\n",
       "      <th>3</th>\n",
       "      <td>3dXC1YPbnQPsfHPVkm1ipj</td>\n",
       "      <td>Christopher Martin</td>\n",
       "      <td>249233.0</td>\n",
       "      <td>52</td>\n",
       "      <td>['dancehall', 'lovers rock', 'modern reggae', ...</td>\n",
       "      <td>['at (1)', 'de (1)']</td>\n",
       "    </tr>\n",
       "    <tr>\n",
       "      <th>4</th>\n",
       "      <td>74terC9ol9zMo8rfzhSOiG</td>\n",
       "      <td>Jakob Hellman</td>\n",
       "      <td>21193.0</td>\n",
       "      <td>39</td>\n",
       "      <td>['classic swedish pop', 'norrbotten indie', 's...</td>\n",
       "      <td>['se (6)']</td>\n",
       "    </tr>\n",
       "    <tr>\n",
       "      <th>...</th>\n",
       "      <td>...</td>\n",
       "      <td>...</td>\n",
       "      <td>...</td>\n",
       "      <td>...</td>\n",
       "      <td>...</td>\n",
       "      <td>...</td>\n",
       "    </tr>\n",
       "    <tr>\n",
       "      <th>156417</th>\n",
       "      <td>2ces6d2YsQP1RpGMYpdFy8</td>\n",
       "      <td>David Urwitz</td>\n",
       "      <td>5470.0</td>\n",
       "      <td>29</td>\n",
       "      <td>['classic swedish pop']</td>\n",
       "      <td>NaN</td>\n",
       "    </tr>\n",
       "    <tr>\n",
       "      <th>156418</th>\n",
       "      <td>6AeznZajNbXUulT7W4tK5l</td>\n",
       "      <td>Darmiko</td>\n",
       "      <td>2022.0</td>\n",
       "      <td>23</td>\n",
       "      <td>[]</td>\n",
       "      <td>NaN</td>\n",
       "    </tr>\n",
       "    <tr>\n",
       "      <th>156419</th>\n",
       "      <td>3GEijIjrgb4lPe9WtURBzz</td>\n",
       "      <td>Katriell</td>\n",
       "      <td>268.0</td>\n",
       "      <td>0</td>\n",
       "      <td>[]</td>\n",
       "      <td>NaN</td>\n",
       "    </tr>\n",
       "    <tr>\n",
       "      <th>156420</th>\n",
       "      <td>0ldQL0icSoMz9OOZcWG8Zt</td>\n",
       "      <td>Yung Fresh</td>\n",
       "      <td>181.0</td>\n",
       "      <td>19</td>\n",
       "      <td>[]</td>\n",
       "      <td>NaN</td>\n",
       "    </tr>\n",
       "    <tr>\n",
       "      <th>156421</th>\n",
       "      <td>1QZqarAGs0Lxx495oNcBnZ</td>\n",
       "      <td>Rakshitha Rao</td>\n",
       "      <td>23.0</td>\n",
       "      <td>24</td>\n",
       "      <td>[]</td>\n",
       "      <td>NaN</td>\n",
       "    </tr>\n",
       "  </tbody>\n",
       "</table>\n",
       "<p>156422 rows × 6 columns</p>\n",
       "</div>"
      ],
      "text/plain": [
       "                    spotify_id                name  followers  popularity  \\\n",
       "0       48WvrUGoijadXXCsGocwM4           Byklubben     1738.0          24   \n",
       "1       4lDiJcOJ2GLCK6p9q5BgfK            Kontra K  1999676.0          72   \n",
       "2       652XIvIBNGg3C0KIGEJWit               Maxim    34596.0          36   \n",
       "3       3dXC1YPbnQPsfHPVkm1ipj  Christopher Martin   249233.0          52   \n",
       "4       74terC9ol9zMo8rfzhSOiG       Jakob Hellman    21193.0          39   \n",
       "...                        ...                 ...        ...         ...   \n",
       "156417  2ces6d2YsQP1RpGMYpdFy8        David Urwitz     5470.0          29   \n",
       "156418  6AeznZajNbXUulT7W4tK5l             Darmiko     2022.0          23   \n",
       "156419  3GEijIjrgb4lPe9WtURBzz            Katriell      268.0           0   \n",
       "156420  0ldQL0icSoMz9OOZcWG8Zt          Yung Fresh      181.0          19   \n",
       "156421  1QZqarAGs0Lxx495oNcBnZ       Rakshitha Rao       23.0          24   \n",
       "\n",
       "                                                   genres  \\\n",
       "0                          ['nordic house', 'russelater']   \n",
       "1                  ['christlicher rap', 'german hip hop']   \n",
       "2                                                      []   \n",
       "3       ['dancehall', 'lovers rock', 'modern reggae', ...   \n",
       "4       ['classic swedish pop', 'norrbotten indie', 's...   \n",
       "...                                                   ...   \n",
       "156417                            ['classic swedish pop']   \n",
       "156418                                                 []   \n",
       "156419                                                 []   \n",
       "156420                                                 []   \n",
       "156421                                                 []   \n",
       "\n",
       "                                               chart_hits  \n",
       "0                                              ['no (3)']  \n",
       "1       ['at (44)', 'de (111)', 'lu (22)', 'ch (31)', ...  \n",
       "2                                              ['de (1)']  \n",
       "3                                    ['at (1)', 'de (1)']  \n",
       "4                                              ['se (6)']  \n",
       "...                                                   ...  \n",
       "156417                                                NaN  \n",
       "156418                                                NaN  \n",
       "156419                                                NaN  \n",
       "156420                                                NaN  \n",
       "156421                                                NaN  \n",
       "\n",
       "[156422 rows x 6 columns]"
      ]
     },
     "execution_count": 57,
     "metadata": {},
     "output_type": "execute_result"
    }
   ],
   "source": [
    "nodes_df"
   ]
  },
  {
   "cell_type": "code",
   "execution_count": null,
   "id": "48984cdd",
   "metadata": {},
   "outputs": [
    {
     "data": {
      "application/vnd.microsoft.datawrangler.viewer.v0+json": {
       "columns": [
        {
         "name": "index",
         "rawType": "int64",
         "type": "integer"
        },
        {
         "name": "id_0",
         "rawType": "object",
         "type": "string"
        },
        {
         "name": "id_1",
         "rawType": "object",
         "type": "string"
        }
       ],
       "conversionMethod": "pd.DataFrame",
       "ref": "be2ad953-b753-4eb9-96c9-5a6e98ce3a83",
       "rows": [
        [
         "0",
         "76M2Ekj8bG8W7X2nbx2CpF",
         "7sfl4Xt5KmfyDs2T3SVSMK"
        ],
        [
         "1",
         "0hk4xVujcyOr6USD95wcWb",
         "7Do8se3ZoaVqUt3woqqSrD"
        ],
        [
         "2",
         "38jpuy3yt3QIxQ8Fn1HTeJ",
         "4csQIMQm6vI2A2SCVDuM2z"
        ],
        [
         "3",
         "6PvcxssrQ0QaJVaBWHD07l",
         "6UCQYrcJ6wab6gnQ89OJFh"
        ],
        [
         "4",
         "2R1QrQqWuw3IjoP5dXRFjt",
         "4mk1ScvOUkuQzzCZpT6bc0"
        ],
        [
         "5",
         "0k70gnDBLPirCltbTzoxuM",
         "5FK3qokBQYxr7ZLkr8GVFn"
        ],
        [
         "6",
         "1bAftSH8umNcGZ0uyV7LMg",
         "1vqR17Iv8VFdzure1TAXEq"
        ],
        [
         "7",
         "21ey6s5hEcTcVKDrF5MWby",
         "7uMh23xWiuR7zsNkuNcm2G"
        ],
        [
         "8",
         "1mYsTxnqsietFxj1OgoGbG",
         "7snhzmuew8iLEDxMIhOU1P"
        ],
        [
         "9",
         "3GBBxBdoolb0B5YizZq9bF",
         "3yayE6rrovGcNkMManKwVf"
        ],
        [
         "10",
         "2I9SLklAOG0vdMiUUMNxRl",
         "4IprNlQiJZUUJhDl0fL2SL"
        ],
        [
         "11",
         "1iIdweeZKCIYQ5xepyaIYz",
         "2UkgjMChHf3vFEwOzLE5o9"
        ],
        [
         "12",
         "4Cmzjffz7uLaESQIWIs9G5",
         "6XvZkxVvGXWhlDFTR6Q4sj"
        ],
        [
         "13",
         "2aaGbpl5Y2ykZsNFZM6ofw",
         "5Jv214x15UoVfHMo4LIpLU"
        ],
        [
         "14",
         "0OZ5IlVdYIK1Et3nW6aTO5",
         "6eUofOqC7jS5aPeTa1a71y"
        ],
        [
         "15",
         "0zkoIIaqJT7WP0rly4rOMk",
         "2hPCF7VDHhihvNdobslOHw"
        ],
        [
         "16",
         "07iEy1AecUPVzfC2J2gCHR",
         "6pFkB3HtAmNbNzeRM7axZE"
        ],
        [
         "17",
         "0IpLJsvZHA1op1pw8GAoPu",
         "2QjS2N6sORI7H4qbf6xitS"
        ],
        [
         "18",
         "2oX42qP5ineK3hrhBECLmj",
         "6aZyMrc4doVtZyKNilOmwu"
        ],
        [
         "19",
         "1ZLNUoHaTQ4RNoniiQUFvD",
         "2NpPlwwDVYR5dIj0F31EcC"
        ],
        [
         "20",
         "5sSzCxHtgL82pYDvx2QyEU",
         "6FXVn5ib6pVL8VZ9Z1L20x"
        ],
        [
         "21",
         "1kW6jqgrymK0l58M3OqVMz",
         "3wpNKcE7grYUIRKCMpmBOb"
        ],
        [
         "22",
         "24mrfJcJ8ZbHY5TgxR8MfZ",
         "5IFCkqu9J6xdWeYMk5I889"
        ],
        [
         "23",
         "4I7D65YMlr6ZxVEGPb7q2K",
         "5JqvosTRPE7gN9xSXUoT1S"
        ],
        [
         "24",
         "0vtCViTDeqN4AqHERrTbue",
         "1NmZEnCbCyf1O1bkTXZhDB"
        ],
        [
         "25",
         "0ZOwmYD7AAgJd3b6jcyik8",
         "6UWxthoCqcdENJe8DDyE1f"
        ],
        [
         "26",
         "2cPqdH7XMvwaBJEVjheH8g",
         "329e4yvIujISKGKz1BZZbO"
        ],
        [
         "27",
         "0t6A5IoqSxQzxmMoDkS9Cv",
         "2Z9KL8Zmqx5Sg3cd7Fldhl"
        ],
        [
         "28",
         "3tZdknQnzsVIIdaGCTj4RX",
         "5ypEYwWaSgtjBPCPcredFM"
        ],
        [
         "29",
         "3XU4PITs0CARHpbWbzrmXx",
         "5RnwLXlnWPF57yzdmUnnvP"
        ],
        [
         "30",
         "0hprEC0nsWuQPSHag1O2Vi",
         "7f5Zgnp2spUuuzKplmRkt7"
        ],
        [
         "31",
         "0WZOmdnCln6FK6GM9e2tGm",
         "4DeiqSO9kyWDr1KuQTYMVg"
        ],
        [
         "32",
         "2OU0KgXtogx9PHDtP9rivG",
         "6j3NgXHowHRpL8NC7lAgbr"
        ],
        [
         "33",
         "204IwDdaHE4ymGk9Kya2pY",
         "5Ph2SZ7I0GXGP7SEqikqiy"
        ],
        [
         "34",
         "1B0Rp4SWGnFgGCPU5Pju6E",
         "2QjS2N6sORI7H4qbf6xitS"
        ],
        [
         "35",
         "0jfo4K7lhf6pWZjQsVtcFF",
         "4rr9SWPUAAPNKOQ4jQkuvj"
        ],
        [
         "36",
         "4Y7tXHSEejGu1vQ9bwDdXW",
         "5ncNJNBW6jRC3xnY7ZSzLj"
        ],
        [
         "37",
         "18KsILOMx3thJRzBYBnKHW",
         "47PlKuEObp6iLrs1ScrJWq"
        ],
        [
         "38",
         "3tzacGOmngxUV8W8lU9h3Q",
         "5mYHBgipaljnhpGeFj2FP9"
        ],
        [
         "39",
         "0okpgBQamDqOZazBeH0J3I",
         "2X0ndI9nIkbMvJE9YlLQr4"
        ],
        [
         "40",
         "4IKVDbCSBTxBeAsMKjAuTs",
         "7jgOOSGT9VG1PSH90uFx43"
        ],
        [
         "41",
         "2qB8FBhvhOwnsrMLXscOKf",
         "5mzTr70OcAfZWMUF8BSjAm"
        ],
        [
         "42",
         "00sAT5YX8W3xNd1EuqyHw9",
         "73jBynjsVtofjRpdpRAJGk"
        ],
        [
         "43",
         "1IsvL603uF5ieIXYApKcnr",
         "1mYsTxnqsietFxj1OgoGbG"
        ],
        [
         "44",
         "2sfSQ1BOzaFQa3LZj6OGwD",
         "5ttgIeUVka6FLyi00Uu5h8"
        ],
        [
         "45",
         "1dVbVQZjRGDjQmHD8oiS8k",
         "4SwNIde9PXmYXhcBJjPjFx"
        ],
        [
         "46",
         "2hKfWlZLozDVOkReXCYJXq",
         "6mKwmTMzDrye9elc8JWiw3"
        ],
        [
         "47",
         "4BekCYjQpGl3aX7b6Fhipz",
         "5U7pOnB9QgH7YFDWQ84Qnu"
        ],
        [
         "48",
         "2M9nsWRUhhvYvfZmOYgTwZ",
         "6aaMlV5Qz8DK66IWgwoUH8"
        ],
        [
         "49",
         "0b2GL7Y02vu50qieoQmw1w",
         "7iJrDbKM5fEkGdm5kpjFzS"
        ]
       ],
       "shape": {
        "columns": 2,
        "rows": 300386
       }
      },
      "text/html": [
       "<div>\n",
       "<style scoped>\n",
       "    .dataframe tbody tr th:only-of-type {\n",
       "        vertical-align: middle;\n",
       "    }\n",
       "\n",
       "    .dataframe tbody tr th {\n",
       "        vertical-align: top;\n",
       "    }\n",
       "\n",
       "    .dataframe thead th {\n",
       "        text-align: right;\n",
       "    }\n",
       "</style>\n",
       "<table border=\"1\" class=\"dataframe\">\n",
       "  <thead>\n",
       "    <tr style=\"text-align: right;\">\n",
       "      <th></th>\n",
       "      <th>id_0</th>\n",
       "      <th>id_1</th>\n",
       "    </tr>\n",
       "  </thead>\n",
       "  <tbody>\n",
       "    <tr>\n",
       "      <th>0</th>\n",
       "      <td>76M2Ekj8bG8W7X2nbx2CpF</td>\n",
       "      <td>7sfl4Xt5KmfyDs2T3SVSMK</td>\n",
       "    </tr>\n",
       "    <tr>\n",
       "      <th>1</th>\n",
       "      <td>0hk4xVujcyOr6USD95wcWb</td>\n",
       "      <td>7Do8se3ZoaVqUt3woqqSrD</td>\n",
       "    </tr>\n",
       "    <tr>\n",
       "      <th>2</th>\n",
       "      <td>38jpuy3yt3QIxQ8Fn1HTeJ</td>\n",
       "      <td>4csQIMQm6vI2A2SCVDuM2z</td>\n",
       "    </tr>\n",
       "    <tr>\n",
       "      <th>3</th>\n",
       "      <td>6PvcxssrQ0QaJVaBWHD07l</td>\n",
       "      <td>6UCQYrcJ6wab6gnQ89OJFh</td>\n",
       "    </tr>\n",
       "    <tr>\n",
       "      <th>4</th>\n",
       "      <td>2R1QrQqWuw3IjoP5dXRFjt</td>\n",
       "      <td>4mk1ScvOUkuQzzCZpT6bc0</td>\n",
       "    </tr>\n",
       "    <tr>\n",
       "      <th>...</th>\n",
       "      <td>...</td>\n",
       "      <td>...</td>\n",
       "    </tr>\n",
       "    <tr>\n",
       "      <th>300381</th>\n",
       "      <td>0PK0Dx3s9et0Uf4XbdFpiW</td>\n",
       "      <td>6SmpksRq3jxeDZ7roKDb6F</td>\n",
       "    </tr>\n",
       "    <tr>\n",
       "      <th>300382</th>\n",
       "      <td>5hqRsNHDZH1jHzI9LgxFRZ</td>\n",
       "      <td>7KYseTkErcYMRvcIqacxUq</td>\n",
       "    </tr>\n",
       "    <tr>\n",
       "      <th>300383</th>\n",
       "      <td>0wjb0t7aYMuIwyuXnPOilh</td>\n",
       "      <td>2p1fiYHYiXz9qi0JJyxBzN</td>\n",
       "    </tr>\n",
       "    <tr>\n",
       "      <th>300384</th>\n",
       "      <td>3ciRvbBIVz9fBoPbtSYq4x</td>\n",
       "      <td>5einkgXXrjhfYCyac1FANB</td>\n",
       "    </tr>\n",
       "    <tr>\n",
       "      <th>300385</th>\n",
       "      <td>25uiPmTg16RbhZWAqwLBy5</td>\n",
       "      <td>3Xt3RrJMFv5SZkCfUE8C1J</td>\n",
       "    </tr>\n",
       "  </tbody>\n",
       "</table>\n",
       "<p>300386 rows × 2 columns</p>\n",
       "</div>"
      ],
      "text/plain": [
       "                          id_0                    id_1\n",
       "0       76M2Ekj8bG8W7X2nbx2CpF  7sfl4Xt5KmfyDs2T3SVSMK\n",
       "1       0hk4xVujcyOr6USD95wcWb  7Do8se3ZoaVqUt3woqqSrD\n",
       "2       38jpuy3yt3QIxQ8Fn1HTeJ  4csQIMQm6vI2A2SCVDuM2z\n",
       "3       6PvcxssrQ0QaJVaBWHD07l  6UCQYrcJ6wab6gnQ89OJFh\n",
       "4       2R1QrQqWuw3IjoP5dXRFjt  4mk1ScvOUkuQzzCZpT6bc0\n",
       "...                        ...                     ...\n",
       "300381  0PK0Dx3s9et0Uf4XbdFpiW  6SmpksRq3jxeDZ7roKDb6F\n",
       "300382  5hqRsNHDZH1jHzI9LgxFRZ  7KYseTkErcYMRvcIqacxUq\n",
       "300383  0wjb0t7aYMuIwyuXnPOilh  2p1fiYHYiXz9qi0JJyxBzN\n",
       "300384  3ciRvbBIVz9fBoPbtSYq4x  5einkgXXrjhfYCyac1FANB\n",
       "300385  25uiPmTg16RbhZWAqwLBy5  3Xt3RrJMFv5SZkCfUE8C1J\n",
       "\n",
       "[300386 rows x 2 columns]"
      ]
     },
     "execution_count": 58,
     "metadata": {},
     "output_type": "execute_result"
    }
   ],
   "source": [
    "edges_df"
   ]
  },
  {
   "cell_type": "code",
   "execution_count": null,
   "id": "1344d3d6",
   "metadata": {},
   "outputs": [],
   "source": [
    "import networkx as nx"
   ]
  },
  {
   "cell_type": "code",
   "execution_count": 75,
   "id": "7de7bfa4",
   "metadata": {},
   "outputs": [],
   "source": [
    "\n",
    "\n",
    "nodes_df = nodes_df.dropna(subset=['spotify_id', 'name'])\n",
    "edges_df = edges_df.dropna(subset=['id_0', 'id_1'])\n",
    "\n",
    "# Create a new graph\n",
    "G = nx.Graph()\n",
    "\n",
    "# Add nodes to the graph\n",
    "# Each node has the artist name as a label and spotify_id as the node identifier\n",
    "for _, row in nodes_df.iterrows():\n",
    "    # Convert potential NaN values to appropriate types\n",
    "    followers = row['followers'] if not pd.isna(row['followers']) else 0\n",
    "    popularity = row['popularity'] if not pd.isna(row['popularity']) else 0\n",
    "    genres = row['genres'] if not pd.isna(row['genres']) else []\n",
    "    chart_hits = row['chart_hits'] if not pd.isna(row['chart_hits']) else []\n",
    "    \n",
    "    G.add_node(row['spotify_id'], name=row['name'], followers=followers, \n",
    "                popularity=popularity, genres=genres, chart_hits=chart_hits)\n",
    "\n",
    "# Add edges between artists\n",
    "for _, row in edges_df.iterrows():\n",
    "    id_0 = row['id_0']\n",
    "    id_1 = row['id_1']\n",
    "    # Only add edge if both nodes exist in the graph\n",
    "    if id_0 in G.nodes and id_1 in G.nodes:\n",
    "        G.add_edge(id_0, id_1)\n",
    "\n"
   ]
  },
  {
   "cell_type": "code",
   "execution_count": null,
   "id": "ac2943c2",
   "metadata": {},
   "outputs": [
    {
     "name": "stdout",
     "output_type": "stream",
     "text": [
      "Number of nodes: 156316\n",
      "Number of edges: 300322\n",
      "Network density: 2.4581764569116915e-05\n"
     ]
    }
   ],
   "source": [
    "print(f\"Number of nodes: {G.number_of_nodes()}\")\n",
    "print(f\"Number of edges: {G.number_of_edges()}\")\n",
    "print(f\"Network density: {nx.density(G)}\")"
   ]
  },
  {
   "cell_type": "code",
   "execution_count": 78,
   "id": "dd99c3ce",
   "metadata": {},
   "outputs": [
    {
     "name": "stdout",
     "output_type": "stream",
     "text": [
      "\n",
      "Sample of artists in the network:\n",
      "48WvrUGoijadXXCsGocwM4: Byklubben\n",
      "4lDiJcOJ2GLCK6p9q5BgfK: Kontra K\n",
      "652XIvIBNGg3C0KIGEJWit: Maxim\n",
      "3dXC1YPbnQPsfHPVkm1ipj: Christopher Martin\n",
      "74terC9ol9zMo8rfzhSOiG: Jakob Hellman\n",
      "\n",
      "Sample of connections between artists:\n",
      "Byklubben is connected to Lauren Flynn\n",
      "Byklubben is connected to Thomas Gregersen\n",
      "Kontra K is connected to DILOMAN\n",
      "Kontra K is connected to Bonez MC\n",
      "Kontra K is connected to BACI\n",
      "Kontra K is connected to AK AUSSERKONTROLLE\n",
      "Kontra K is connected to Luciano\n",
      "Kontra K is connected to Samra\n",
      "Kontra K is connected to Rico\n",
      "Kontra K is connected to R3HAB\n",
      "Kontra K is connected to Blokkmonsta\n",
      "Kontra K is connected to SDP\n",
      "Kontra K is connected to DieserMorten\n",
      "Kontra K is connected to Kurdo\n",
      "Kontra K is connected to Vollbluthustler\n",
      "Kontra K is connected to Xavier Naidoo\n",
      "Kontra K is connected to BTNG\n",
      "Kontra K is connected to Jah Khalib\n",
      "Kontra K is connected to Haftbefehl\n",
      "Kontra K is connected to Nisse\n",
      "Kontra K is connected to Cardi B\n",
      "Kontra K is connected to KC Rebell\n",
      "Kontra K is connected to Falco\n",
      "Kontra K is connected to Toni der Assi\n",
      "Kontra K is connected to Joshi Mizu\n",
      "Kontra K is connected to Leony\n",
      "Kontra K is connected to Big Flexx\n",
      "Kontra K is connected to Nizi\n",
      "Kontra K is connected to 1986zig\n",
      "Kontra K is connected to Daniel Spencer\n",
      "Kontra K is connected to Rompasso\n",
      "Kontra K is connected to The Cratez\n",
      "Kontra K is connected to Rako\n",
      "Kontra K is connected to Mois\n",
      "Kontra K is connected to Kalazh44\n",
      "Kontra K is connected to Sleiman\n",
      "Kontra K is connected to Maestro\n",
      "Kontra K is connected to Veysel\n",
      "Kontra K is connected to Brudi030\n",
      "Kontra K is connected to Skinny Al\n",
      "Kontra K is connected to Skepsis\n",
      "Kontra K is connected to alt-J\n",
      "Kontra K is connected to Fatal\n",
      "Kontra K is connected to VIZE\n",
      "Kontra K is connected to Farid Bang\n",
      "Kontra K is connected to RAF Camora\n",
      "Kontra K is connected to JANAGA\n",
      "Kontra K is connected to Ramil'\n",
      "Kontra K is connected to KiezSpezial\n",
      "Kontra K is connected to Skepsis\n",
      "Kontra K is connected to Freshmaker\n",
      "Kontra K is connected to Eldzhey\n",
      "Kontra K is connected to Bausa\n",
      "Kontra K is connected to Skepsis\n",
      "Kontra K is connected to SSIO\n",
      "Kontra K is connected to Gzuz\n",
      "Kontra K is connected to Olexesh\n",
      "Kontra K is connected to Ufo361\n",
      "Kontra K is connected to Sido\n",
      "Kontra K is connected to Capital Bra\n",
      "Kontra K is connected to Sick Jacken\n",
      "Kontra K is connected to Haudegen\n",
      "Kontra K is connected to Alicia Awa\n",
      "Kontra K is connected to GRiNGO\n",
      "Kontra K is connected to Aslan DPK\n",
      "Kontra K is connected to Rosa\n",
      "Maxim is connected to Chakuza\n",
      "Maxim is connected to TEKA\n",
      "Maxim is connected to AHORN\n",
      "Maxim is connected to Megaloh\n",
      "Maxim is connected to Jaqee\n",
      "Maxim is connected to Die Orsons\n",
      "Maxim is connected to Marteria\n",
      "Maxim is connected to KC Rebell\n",
      "Christopher Martin is connected to Tanto Blacks\n",
      "Christopher Martin is connected to Anju Blaxx\n",
      "Christopher Martin is connected to Lia Caribe\n",
      "Christopher Martin is connected to Ken Ring\n",
      "Christopher Martin is connected to Romain Virgo\n",
      "Christopher Martin is connected to Shaggy\n",
      "Christopher Martin is connected to Duane Stephenson\n",
      "Christopher Martin is connected to Busy Signal\n",
      "Christopher Martin is connected to Konshens\n",
      "Christopher Martin is connected to Iceman\n",
      "Christopher Martin is connected to Dean Fraser\n",
      "Christopher Martin is connected to Silly Walks Discotheque\n",
      "Christopher Martin is connected to Chip\n",
      "Christopher Martin is connected to Destiny Moriah\n",
      "Christopher Martin is connected to Etana\n",
      "Christopher Martin is connected to Raging Fyah\n",
      "Christopher Martin is connected to Guy Berryman\n",
      "Christopher Martin is connected to Tim Bergling\n",
      "Christopher Martin is connected to Kabaka Pyramid\n",
      "Christopher Martin is connected to Jonny Blaze\n",
      "Christopher Martin is connected to ZJ Chrome\n",
      "Christopher Martin is connected to Mr Easy\n",
      "Christopher Martin is connected to Sandy Smith\n",
      "Christopher Martin is connected to Bling Dawg\n",
      "Christopher Martin is connected to Machel Montano\n",
      "Christopher Martin is connected to Gentleman\n"
     ]
    }
   ],
   "source": [
    "# Print some of the nodes with their names\n",
    "print(\"\\nSample of artists in the network:\")\n",
    "for i, (node_id, node_data) in enumerate(G.nodes(data=True)):\n",
    "    if i >= 5:  # Print only first 5 nodes\n",
    "        break\n",
    "    print(f\"{node_id}: {node_data.get('name', 'N/A')}\")\n",
    "\n",
    "# Print some of the edges\n",
    "print(\"\\nSample of connections between artists:\")\n",
    "for i, (source, target) in enumerate(list(G.edges())[:100]):\n",
    "    source_name = G.nodes[source].get('name', 'N/A')\n",
    "    target_name = G.nodes[target].get('name', 'N/A')\n",
    "    print(f\"{source_name} is connected to {target_name}\")"
   ]
  }
 ],
 "metadata": {
  "kernelspec": {
   "display_name": "Python 3",
   "language": "python",
   "name": "python3"
  },
  "language_info": {
   "codemirror_mode": {
    "name": "ipython",
    "version": 3
   },
   "file_extension": ".py",
   "mimetype": "text/x-python",
   "name": "python",
   "nbconvert_exporter": "python",
   "pygments_lexer": "ipython3",
   "version": "3.12.2"
  }
 },
 "nbformat": 4,
 "nbformat_minor": 5
}
