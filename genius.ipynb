{
 "cells": [
  {
   "cell_type": "code",
   "execution_count": 10,
   "id": "6d1265ae",
   "metadata": {},
   "outputs": [],
   "source": [
    "import pickle \n",
    "\n",
    "with open(\"pop_df.pkl\", \"rb\") as f: \n",
    "    pop_df = pickle.load(f)\n",
    "\n",
    "with open(\"rap_df.pkl\", \"rb\") as f: \n",
    "    rap_df = pickle.load(f)"
   ]
  },
  {
   "cell_type": "code",
   "execution_count": 11,
   "id": "7928d34e",
   "metadata": {},
   "outputs": [],
   "source": [
    "pop_names = pop_df[\"name\"].tolist()\n",
    "rap_names = rap_df[\"name\"]"
   ]
  },
  {
   "cell_type": "code",
   "execution_count": 12,
   "id": "f467cfd0",
   "metadata": {},
   "outputs": [
    {
     "name": "stdout",
     "output_type": "stream",
     "text": [
      "4398\n",
      "1704\n"
     ]
    }
   ],
   "source": [
    "print(len(pop_names))\n",
    "print(len(rap_names))"
   ]
  },
  {
   "cell_type": "code",
   "execution_count": 13,
   "id": "610a9647",
   "metadata": {},
   "outputs": [],
   "source": [
    "andreas = pop_names[:2199]\n",
    "hector = pop_names[2199:]\n",
    "teis = rap_names"
   ]
  },
  {
   "cell_type": "code",
   "execution_count": null,
   "id": "db06b19f",
   "metadata": {},
   "outputs": [],
   "source": [
    "import lyricsgenius\n",
    "import concurrent.futures \n",
    "import pandas as pd\n",
    "import pickle \n",
    "\n",
    "token = \"SQ5PQucPjwa_LEDaobBQyxewdh80ZB-KhaBau73yASMRNIvnijWprQSi6ZDnUb7N\"\n",
    "genius = lyricsgenius.Genius(token, verbose=False)"
   ]
  },
  {
   "cell_type": "code",
   "execution_count": 15,
   "id": "675513d0",
   "metadata": {},
   "outputs": [],
   "source": [
    "def search_artists_songs(artist_name): \n",
    "    try:\n",
    "        dic = {\"name\": artist_name, \"lyrics\": []}\n",
    "        result = genius.search_artist(artist_name, max_songs=3, sort=\"popularity\")\n",
    "        for song in result.songs: \n",
    "            dic[\"lyrics\"].append(song.lyrics)\n",
    "        print(\"#\")\n",
    "        return dic\n",
    "    \n",
    "    except Exception as e:\n",
    "        print(f\"Error fetching artist {artist_name}: {e}\")\n",
    "        return None"
   ]
  },
  {
   "cell_type": "markdown",
   "id": "bd00c1b2",
   "metadata": {},
   "source": [
    "# Edit her nede"
   ]
  },
  {
   "cell_type": "code",
   "execution_count": null,
   "id": "fe7ef66f",
   "metadata": {},
   "outputs": [],
   "source": [
    "chosen_list = hector\n",
    "results = []"
   ]
  },
  {
   "cell_type": "code",
   "execution_count": null,
   "id": "91adf1cd",
   "metadata": {},
   "outputs": [
    {
     "name": "stdout",
     "output_type": "stream",
     "text": [
      "#\n",
      "#\n",
      "#\n",
      "#\n",
      "#\n",
      "1.0 / 1.0\n",
      "#\n",
      "#\n",
      "#\n",
      "#\n",
      "#\n"
     ]
    }
   ],
   "source": [
    "#batching \n",
    "for i in range(0, len(chosen_list), 5): \n",
    "    if i != 0:\n",
    "        print(f\"{(i/5)} / {len(chosen_list)/5 -1}\")\n",
    "    names = chosen_list[i:i+5]\n",
    "\n",
    "    with concurrent.futures.ThreadPoolExecutor() as executor: \n",
    "        tmp = list(executor.map(search_artists_songs, names))\n",
    "    results += tmp\n",
    "\n",
    "df = pd.DataFrame(results)\n",
    "\n",
    "with open(\"CHANGE_NAME_HERE.pkl\", \"wb\") as f: \n",
    "    pickle.dump(df, f)"
   ]
  }
 ],
 "metadata": {
  "kernelspec": {
   "display_name": "Python 3",
   "language": "python",
   "name": "python3"
  },
  "language_info": {
   "codemirror_mode": {
    "name": "ipython",
    "version": 3
   },
   "file_extension": ".py",
   "mimetype": "text/x-python",
   "name": "python",
   "nbconvert_exporter": "python",
   "pygments_lexer": "ipython3",
   "version": "3.12.8"
  }
 },
 "nbformat": 4,
 "nbformat_minor": 5
}
