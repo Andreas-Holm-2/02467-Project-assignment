{
 "cells": [
  {
   "cell_type": "markdown",
   "id": "44597efd",
   "metadata": {},
   "source": [
    "## Explainer notebook"
   ]
  }
 ],
 "metadata": {
  "language_info": {
   "name": "python"
  }
 },
 "nbformat": 4,
 "nbformat_minor": 5
}
